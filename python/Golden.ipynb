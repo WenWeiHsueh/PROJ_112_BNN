{
 "cells": [
  {
   "cell_type": "code",
   "execution_count": 1,
   "metadata": {
    "colab": {
     "base_uri": "https://localhost:8080/"
    },
    "id": "hh0Inqmad5Y-",
    "outputId": "1eda02f9-cc2d-4d98-f68d-6e53ceb9e1b5"
   },
   "outputs": [
    {
     "ename": "ModuleNotFoundError",
     "evalue": "No module named 'numpy'",
     "output_type": "error",
     "traceback": [
      "\u001b[0;31m---------------------------------------------------------------------------\u001b[0m",
      "\u001b[0;31mModuleNotFoundError\u001b[0m                       Traceback (most recent call last)",
      "Input \u001b[0;32mIn [1]\u001b[0m, in \u001b[0;36m<cell line: 7>\u001b[0;34m()\u001b[0m\n\u001b[1;32m      1\u001b[0m \u001b[38;5;124;03m'''Trains a simple binarize CNN on the MNIST dataset.\u001b[39;00m\n\u001b[1;32m      2\u001b[0m \u001b[38;5;124;03mModified from keras' examples/mnist_mlp.py\u001b[39;00m\n\u001b[1;32m      3\u001b[0m \u001b[38;5;124;03mGets to 98.98% test accuracy after 20 epochs using tensorflow backend\u001b[39;00m\n\u001b[1;32m      4\u001b[0m \u001b[38;5;124;03m'''\u001b[39;00m\n\u001b[1;32m      6\u001b[0m \u001b[38;5;28;01mfrom\u001b[39;00m \u001b[38;5;21;01m__future__\u001b[39;00m \u001b[38;5;28;01mimport\u001b[39;00m print_function\n\u001b[0;32m----> 7\u001b[0m \u001b[38;5;28;01mimport\u001b[39;00m \u001b[38;5;21;01mnumpy\u001b[39;00m \u001b[38;5;28;01mas\u001b[39;00m \u001b[38;5;21;01mnp\u001b[39;00m\n\u001b[1;32m      8\u001b[0m np\u001b[38;5;241m.\u001b[39mrandom\u001b[38;5;241m.\u001b[39mseed(\u001b[38;5;241m1337\u001b[39m)  \u001b[38;5;66;03m# for reproducibility\u001b[39;00m\n\u001b[1;32m     10\u001b[0m \u001b[38;5;28;01mimport\u001b[39;00m \u001b[38;5;21;01mkeras\u001b[39;00m\u001b[38;5;21;01m.\u001b[39;00m\u001b[38;5;21;01mbackend\u001b[39;00m \u001b[38;5;28;01mas\u001b[39;00m \u001b[38;5;21;01mK\u001b[39;00m\n",
      "\u001b[0;31mModuleNotFoundError\u001b[0m: No module named 'numpy'"
     ]
    }
   ],
   "source": [
    "'''Trains a simple binarize CNN on the MNIST dataset.\n",
    "Modified from keras' examples/mnist_mlp.py\n",
    "Gets to 98.98% test accuracy after 20 epochs using tensorflow backend\n",
    "'''\n",
    "\n",
    "from __future__ import print_function\n",
    "import numpy as np\n",
    "np.random.seed(1337)  # for reproducibility\n",
    "\n",
    "import keras.backend as K\n",
    "from keras.datasets import mnist\n",
    "from keras.models import Sequential\n",
    "from keras.layers import Dense, Dropout, Activation, BatchNormalization, MaxPooling2D\n",
    "from keras.layers import Flatten\n",
    "from tensorflow.keras.optimizers import SGD, Adam, RMSprop\n",
    "from keras.callbacks import LearningRateScheduler\n",
    "from keras.utils import np_utils\n",
    "from keras import callbacks\n",
    "from binary_ops import binary_tanh as binary_tanh_op\n",
    "from binary_layers import BinaryDense, BinaryConv2D\n",
    "from binary_ops import binarize\n",
    "from keras import callbacks\n",
    "def binary_tanh(x):\n",
    "    return binary_tanh_op(x)\n",
    "\n",
    "\n",
    "H = 1.\n",
    "kernel_lr_multiplier = 'Glorot'\n",
    "\n",
    "# nn\n",
    "batch_size = 50\n",
    "epochs = 20 \n",
    "channels = 1\n",
    "img_rows = 28 \n",
    "img_cols = 28 \n",
    "filters = 32 \n",
    "kernel_size = (3, 3)\n",
    "pool_size = (2, 2)\n",
    "hidden_units = 128\n",
    "classes = 10\n",
    "use_bias = False\n",
    "#############################基本設定#############################\n",
    "# learning rate schedule\n",
    "lr_start = 1e-3\n",
    "lr_end = 1e-4\n",
    "lr_decay = (lr_end / lr_start)**(1. / epochs)\n",
    "\n",
    "# BN\n",
    "epsilon = 1e-6\n",
    "momentum = 0.9\n",
    "\n",
    "# dropout\n",
    "p1 = 0.25\n",
    "p2 = 0.5\n",
    "\n",
    "# the data, shuffled and split between train and test sets\n",
    "(X_train, y_train), (X_test, y_test) = mnist.load_data()\n",
    "\n",
    "X_train = X_train.reshape(60000, 1, 28, 28) ####調整資料大小\n",
    "X_test = X_test.reshape(10000, 1, 28, 28)   ##調整資料大小\n",
    "X_train = X_train.astype('float32')\n",
    "X_test = X_test.astype('float32')\n",
    "X_train /= 255    ##正規化\n",
    "X_test /= 255     ##正規化\n",
    "print(X_train.shape[0], 'train samples')\n",
    "print(X_test.shape[0], 'test samples')\n",
    "\n",
    "# convert class vectors to binary class matrices\n",
    "Y_train = np_utils.to_categorical(y_train, classes) * 2 - 1 # -1 or 1 for hinge loss\n",
    "Y_test = np_utils.to_categorical(y_test, classes) * 2 - 1\n",
    "\n",
    "model = Sequential()\n",
    "# conv1\n",
    "model.add(BinaryConv2D(32, kernel_size=kernel_size, input_shape=(channels, img_rows, img_cols),\n",
    "                       data_format='channels_first',\n",
    "                       H=H, kernel_lr_multiplier=kernel_lr_multiplier, \n",
    "                       padding='same', use_bias=use_bias, name='conv1'))\n",
    "# model.add(BinaryConv2D(32, kernel_size=kernel_size, H=H, kernel_lr_multiplier=kernel_lr_multiplier,                         \n",
    "#                        data_format='channels_first',\n",
    "#                        padding='same', use_bias=use_bias, name='conv2'))\n",
    "# model.add(BinaryConv2D(32, kernel_size=kernel_size, H=H, kernel_lr_multiplier=kernel_lr_multiplier,\n",
    "#                        data_format='channels_first',\n",
    "#                        padding='same', use_bias=use_bias, name='conv3'))\n",
    "model.add(MaxPooling2D(pool_size=pool_size, name='pool2', data_format='channels_last'))\n",
    "model.add(BatchNormalization(epsilon=epsilon, momentum=momentum, axis=1, name='bn2'))\n",
    "model.add(Activation(binary_tanh, name='act2'))\n",
    "#model.add(BatchNormalization(epsilon=epsilon, momentum=momentum, axis=1, name='bn1'))\n",
    "model.add(Activation(binary_tanh, name='act1'))\n",
    "model.add(Flatten())\n",
    "model.add(Dense(32, activation='relu'))\n",
    "model.add(BatchNormalization(epsilon=epsilon, momentum=momentum, name='bn5'))\n",
    "model.add(Dense(10, activation='softmax'))\n",
    "opt = Adam(lr=lr_start) \n",
    "model.compile(loss='squared_hinge', optimizer=opt, metrics=['accuracy'])\n",
    "model.summary()\n",
    "lr_scheduler = LearningRateScheduler(lambda e: lr_start * lr_decay ** e)\n",
    "history = model.fit(X_train, Y_train,\n",
    "                    batch_size=50, epochs=1,\n",
    "                    verbose=1, validation_data=(X_test, Y_test))\n",
    "score = model.evaluate(X_test, Y_test, verbose=0)\n",
    "print('Test score:', score[0])\n",
    "print('Test accuracy:', score[1])\n",
    "# print(model.layers[0].get_weights())"
   ]
  },
  {
   "cell_type": "code",
   "execution_count": 51,
   "metadata": {
    "id": "vOKdLENTgza-"
   },
   "outputs": [],
   "source": [
    "binary_kernel_1 = binarize(model.layers[0].kernel, H=model.layers[0].H) \n",
    "# binary_kernel_2 = binarize(model.layers[1].kernel, H=model.layers[1].H) # 成功率若不夠再加\n",
    "# # binary_kernel_3 = binarize(model.layers[2].kernel, H=model.layers[2].H)\n",
    "# print('BINARIZE_1')\n",
    "# print(binary_kernel_1)\n",
    "# print('BINARIZE_2')\n",
    "# print(binary_kernel_2)\n",
    "# # print('BINARIZE_3')\n",
    "# # print(binary_kernel_3)"
   ]
  },
  {
   "cell_type": "code",
   "execution_count": 52,
   "metadata": {
    "id": "G1m983Ljg1u4"
   },
   "outputs": [],
   "source": [
    "array_1 = binary_kernel_1.numpy()\n",
    "weight_file_1 = open('weight_1.txt', 'a')\n",
    "for i in range(len(binary_kernel_1)):\n",
    "  weight_file_1.write(str(array_1[i]) + '\\n')\n",
    "weight_file_1.close()\n",
    "\n",
    "# array_2 = binary_kernel_2.numpy() # 成功率若不夠再加\n",
    "# weight_file_2 = open('weight_2.txt', 'a')\n",
    "# for i in range(len(binary_kernel_2)):\n",
    "#   weight_file_2.write(str(array_2[i]) + '\\n')\n",
    "# weight_file_2.close()\n",
    "\n",
    "# array_3 = binary_kernel_3.numpy()\n",
    "# weight_file_1 = open('weight_3.txt', 'a')\n",
    "# for i in range(len(binary_kernel_3)):\n",
    "#   weight_file_1.write(str(array_1[i]) + '\\n')\n",
    "# weight_file_1.close()"
   ]
  },
  {
   "cell_type": "code",
   "execution_count": null,
   "metadata": {
    "id": "pdq6p-ss3aYr"
   },
   "outputs": [],
   "source": [
    "num = 0\n",
    "print('==============================1===========================')\n",
    "re_ker_1 = np.array([])\n",
    "for i in range(32):\n",
    "  num += 1\n",
    "  print(num)\n",
    "  print(array_1[:, :, 0, i])\n",
    "  re_ker_1 = np.append(re_ker_1, array_1[:, :, 0, i])\n",
    "print('==============================2===========================')\n",
    "kernel_array = re_ker_1.reshape(32, 9)# 成功率若不夠拿掉\n",
    "# re_ker_1 = re_ker_1.reshape(32, 9)# 成功率若不夠再加\n",
    "# print(re_ker_1)\n",
    "\n",
    "# print('==============================3===========================')\n",
    "# re_ker_2 = np.array([])# 成功率若不夠再加\n",
    "# for i in range(32):\n",
    "#   num += 1\n",
    "#   print(num)\n",
    "#   print(array_2[:, :, 0, i])\n",
    "#   re_ker_2 = np.append(re_ker_2, array_2[:, :, 0, i])\n",
    "# print('==============================4===========================')\n",
    "# re_ker_2 = re_ker_2.reshape(32, 9)\n",
    "# print(re_ker_2)\n",
    "# print('==============================5===========================')\n",
    "# kernel_array = np.append(re_ker_1, re_ker_2)\n",
    "# kernel_array = kernel_array.reshape(2, 32, 9)\n",
    "# print(kernel_array)"
   ]
  },
  {
   "cell_type": "code",
   "execution_count": 54,
   "metadata": {
    "colab": {
     "base_uri": "https://localhost:8080/"
    },
    "id": "3EJi-egZfUQo",
    "outputId": "200bbd81-300a-481e-ff13-9457c647ebac"
   },
   "outputs": [
    {
     "name": "stdout",
     "output_type": "stream",
     "text": [
      "Drive already mounted at /content/drive; to attempt to forcibly remount, call drive.mount(\"/content/drive\", force_remount=True).\n"
     ]
    }
   ],
   "source": [
    "''' 從google drive內讀檔 '''\n",
    "from google.colab import drive\n",
    "import os\n",
    "drive.mount('/content/drive') # 第一次執行時需要驗證碼，照著指示做就行了\n",
    "# os.mkdir('/content/drive/MyDrive/Mnist') # 請確認你的google drive內有 'Mnist' 資料夾，沒有就用這個創一個\n",
    "# os.mkdir('/content/drive/MyDrive/Mnist/K1') # 請確認你的google drive內有 'Mnist/K1' 資料夾，沒有就用這個創一個\n",
    "# os.mkdir('/content/drive/MyDrive/Mnist/K2') # 請確認你的google drive內有 'Mnist/K2' 資料夾，沒有就用這個創一個\n",
    "path = '/content/drive/MyDrive/Mnist/'"
   ]
  },
  {
   "cell_type": "code",
   "execution_count": 55,
   "metadata": {
    "colab": {
     "base_uri": "https://localhost:8080/",
     "height": 281
    },
    "id": "4Vg74_NpfVHJ",
    "outputId": "97abca41-548c-4587-ffc7-196f0ba3257d"
   },
   "outputs": [
    {
     "data": {
      "image/png": "[encoded data removed]",
      "text/plain": [
       "<Figure size 432x288 with 1 Axes>"
      ]
     },
     "metadata": {
      "needs_background": "light"
     },
     "output_type": "display_data"
    }
   ],
   "source": [
    "from __future__ import print_function\n",
    "import numpy as np\n",
    "import keras\n",
    "from keras.datasets import mnist\n",
    "from keras.models import Sequential\n",
    "from keras.layers import Dense, Dropout, Flatten\n",
    "from keras.layers import Conv2D, MaxPooling2D\n",
    "import matplotlib.pyplot as plt\n",
    "from keras import backend as K\n",
    "\n",
    "batch_size = 1\n",
    "num_classes = 10\n",
    "epochs = 12\n",
    "\n",
    "# input image dimensions\n",
    "img_rows, img_cols = 28, 28\n",
    "\n",
    "# the data, split between train and test sets\n",
    "(x_train, y_train), (x_test, y_test) = mnist.load_data()\n",
    "\n",
    "if K.image_data_format() == 'channels_first':\n",
    "    x_train = x_train.reshape(x_train.shape[0], 1, img_rows, img_cols)\n",
    "    x_test = x_test.reshape(x_test.shape[0], 1, img_rows, img_cols)\n",
    "    input_shape = (1, img_rows, img_cols)\n",
    "else:\n",
    "    x_train = x_train.reshape(x_train.shape[0], img_rows, img_cols, 1)\n",
    "    x_test = x_test.reshape(x_test.shape[0], img_rows, img_cols, 1)\n",
    "    input_shape = (img_rows, img_cols, 1)\n",
    "\n",
    "x_train = x_train.astype('float32')\n",
    "x_test = x_test.astype('float32')\n",
    "x_train /= 255\n",
    "x_test /= 255\n",
    "\n",
    "print_index = 0\n",
    "plt.imshow(np.reshape(x_train[print_index], (28, 28)), cmap='gray')  \n",
    "plt.title('%i' % y_train[print_index])  \n",
    "plt.show()"
   ]
  },
  {
   "cell_type": "code",
   "execution_count": 56,
   "metadata": {
    "id": "tUwK4JdVfWef"
   },
   "outputs": [],
   "source": [
    "def float_to_hex(data, int_bit, point_bit, merge):\n",
    "  hex_map = ['0', '1', '2', '3', '4', '5', '6', '7', '8', '9', 'A', 'B', 'C', 'D', 'E', 'F']\n",
    "\n",
    "  int_part = data - data % 1 # 整數部分\n",
    "  point_part = data % 1 # 小數部分\n",
    "  bit_num = int_bit + point_bit # 總bit數\n",
    "  bit_res = bit_num % 4 # 處理到最後剩餘bit數\n",
    "  before_merge = ['' for data_num in range(len(data))] # 合併前結果\n",
    "\n",
    "  for data_index in range(len(data)): # 將signed轉換成unsigned\n",
    "    if int_part[data_index] < 0:\n",
    "      int_part[data_index] += (2 ** int_bit)\n",
    "\n",
    "  unsigned_fixed = int_part + point_part # unsigned fixed point\n",
    "  for pow in range(int_bit, -point_bit - 1, -4):\n",
    "    if pow != int_bit:\n",
    "      unsigned_fixed = unsigned_fixed * (2 ** -pow)\n",
    "      for data_index in range(len(unsigned_fixed)):\n",
    "        before_merge[data_index] = before_merge[data_index] + hex_map[int(unsigned_fixed[data_index])]\n",
    "      unsigned_fixed = (unsigned_fixed % 1) * (2 ** pow)\n",
    "  if bit_res != 0: # 剩餘bit\n",
    "    unsigned_fixed = (unsigned_fixed * (2 ** point_bit) - (unsigned_fixed * (2 ** point_bit) % 1)) * (2 ** (4 - bit_res))\n",
    "    for data_index in range(len(unsigned_fixed)):\n",
    "      before_merge[data_index] = before_merge[data_index] + hex_map[int(unsigned_fixed[data_index])]\n",
    "\n",
    "  #print(before_merge)\n",
    "\n",
    "  if len(data) % merge != 0:\n",
    "    print('無法整除')\n",
    "  else:\n",
    "    result = ['' for data_num in range(int(len(data) / merge))] # Merge後結果\n",
    "\n",
    "    head_index = 0 # 開頭位置\n",
    "    now_index = 0 # 儲存在result的位置\n",
    "\n",
    "    while now_index != len(result):\n",
    "      for i in range(head_index, head_index + merge):\n",
    "        result[now_index] += before_merge[i]\n",
    "      head_index += merge\n",
    "      now_index += 1\n",
    "\n",
    "    return result\n"
   ]
  },
  {
   "cell_type": "code",
   "execution_count": 69,
   "metadata": {
    "id": "e7GiXHqlfYov"
   },
   "outputs": [],
   "source": [
    "def Golden(image, kernel, num_kernel):\n",
    "\n",
    "  Conv_weight = np.array(kernel[num_kernel])\n",
    "  Conv_weight = Conv_weight - Conv_weight % (2 ** -5)\n",
    "  row_kernel = np.array([]) # temp for every row output form Conv kernel 1\n",
    "  '''To MaxPool'''\n",
    "  Imageout_kernal = np.empty((0, 26), float) # Image output form kernal 1\n",
    "  ################\n",
    "\n",
    "  for col in range(0,26):\n",
    "    for row in range(0,26):\n",
    "      filter = 0\n",
    "      for i in range(3):\n",
    "        for j in range(3):\n",
    "          tmp1 = image[col + i, row + j] * Conv_weight[3 * i + j]\n",
    "          filter += tmp1\n",
    "      if filter % (2 ** -5) >= (2 ** -6):\n",
    "        filter += (2 ** -5)\n",
    "      filter = max(filter, 0)\n",
    "      row_kernel = np.append(row_kernel, filter)\n",
    "    Imageout_kernal = np.append(Imageout_kernal, np.expand_dims(row_kernel, axis = 0), axis = 0)\n",
    "    row_kernel = np.array([])\n",
    "\n",
    "  #print(np.reshape((Imageout_kernal_1), 676))\n",
    "  #print(np.reshape((Imageout_kernal_2), 676))\n",
    "  \n",
    "  result = float_to_hex(np.reshape((Imageout_kernal), 676), 3, 5, 4)\n",
    "  print(result)\n",
    "  output_file_name = 'test_' + '0' + '_kernel_' + str(num_kernel) + '_hex.txt'\n",
    "  output_file = open(output_file_name, 'w')\n",
    "  for data in result:\n",
    "    output_file.write(data + '\\n')\n",
    "  output_file.close()\n",
    "\n",
    "  '''for index in range(len(result1)):\n",
    "      if np.reshape((Imageout_kernal_1), 676)[index] - np.reshape((Imageout_kernal_1), 676)[index] % (2 ** -5) != int(result1[index][0], 16) * (2 ** -1) + int(result1[index][1], 16) * (2 ** -5):\n",
    "        print(\"hi1 : \", index)\n",
    "        print( np.reshape((Imageout_kernal_1), 676)[index] - np.reshape((Imageout_kernal_1), 676)[index] % (2 ** -5), int(result1[index][0], 16) * (2 ** -1) + int(result1[index][1], 16) * (2 ** -5))\n",
    "  for index in range(len(result2)):\n",
    "      if np.reshape((Imageout_kernal_2), 676)[index] - np.reshape((Imageout_kernal_2), 676)[index] % (2 ** -5) != int(result2[index][0], 16) * (2 ** -1) + int(result2[index][1], 16) * (2 ** -5):\n",
    "        print(\"hi2\", index)\n",
    "        print( np.reshape((Imageout_kernal_2), 676)[index] - np.reshape((Imageout_kernal_2), 676)[index] % (2 ** -5), int(result2[index][0], 16) * (2 ** -1) + int(result2[index][1], 16) * (2 ** -5))'''"
   ]
  },
  {
   "cell_type": "code",
   "execution_count": 68,
   "metadata": {
    "id": "PGD5dRfQvQwi"
   },
   "outputs": [],
   "source": [
    "# def Golden(image, kernel, num_kernel, num_layer):\n",
    "\n",
    "#   Conv_weight = np.array(kernel[num_layer][num_kernel])\n",
    "#   Conv_weight = Conv_weight - Conv_weight % (2 ** -5)\n",
    "#   row_kernel = np.array([]) # temp for every row output form Conv kernel 1\n",
    "#   '''To MaxPool'''\n",
    "#   Imageout_kernal = np.empty((0, 26), float) # Image output form kernal 1\n",
    "#   ################\n",
    "\n",
    "#   for col in range(0,26):\n",
    "#     for row in range(0,26):\n",
    "#       filter = 0\n",
    "#       for i in range(3):\n",
    "#         for j in range(3):\n",
    "#           tmp1 = image[col + i, row + j] * Conv_weight[3 * i + j]\n",
    "#           filter += tmp1\n",
    "#       if filter % (2 ** -5) >= (2 ** -6):\n",
    "#         filter += (2 ** -5)\n",
    "#       filter = max(filter, 0)\n",
    "#       row_kernel = np.append(row_kernel, filter)\n",
    "#     Imageout_kernal = np.append(Imageout_kernal, np.expand_dims(row_kernel, axis = 0), axis = 0)\n",
    "#     row_kernel = np.array([])\n",
    "\n",
    "#   #print(np.reshape((Imageout_kernal_1), 676))\n",
    "#   #print(np.reshape((Imageout_kernal_2), 676))\n",
    "  \n",
    "#   result = float_to_hex(np.reshape((Imageout_kernal), 676), 3, 5, 4)\n",
    "#   print(result)\n",
    "#   output_file_name = 'test_' + str(num_layer) + '_kernel_' + str(num_kernel) + '_hex.txt'\n",
    "#   output_file = open(output_file_name, 'w')\n",
    "#   for data in result:\n",
    "#     output_file.write(data + '\\n')\n",
    "#   output_file.close()\n",
    "\n",
    "#   '''for index in range(len(result1)):\n",
    "#       if np.reshape((Imageout_kernal_1), 676)[index] - np.reshape((Imageout_kernal_1), 676)[index] % (2 ** -5) != int(result1[index][0], 16) * (2 ** -1) + int(result1[index][1], 16) * (2 ** -5):\n",
    "#         print(\"hi1 : \", index)\n",
    "#         print( np.reshape((Imageout_kernal_1), 676)[index] - np.reshape((Imageout_kernal_1), 676)[index] % (2 ** -5), int(result1[index][0], 16) * (2 ** -1) + int(result1[index][1], 16) * (2 ** -5))\n",
    "#   for index in range(len(result2)):\n",
    "#       if np.reshape((Imageout_kernal_2), 676)[index] - np.reshape((Imageout_kernal_2), 676)[index] % (2 ** -5) != int(result2[index][0], 16) * (2 ** -1) + int(result2[index][1], 16) * (2 ** -5):\n",
    "#         print(\"hi2\", index)\n",
    "#         print( np.reshape((Imageout_kernal_2), 676)[index] - np.reshape((Imageout_kernal_2), 676)[index] % (2 ** -5), int(result2[index][0], 16) * (2 ** -1) + int(result2[index][1], 16) * (2 ** -5))'''"
   ]
  },
  {
   "cell_type": "code",
   "execution_count": 70,
   "metadata": {
    "colab": {
     "base_uri": "https://localhost:8080/",
     "height": 874
    },
    "id": "daqd0U-xfbBI",
    "outputId": "5ca3415b-bf27-42d9-f34f-c99c65cdcf81"
   },
   "outputs": [
    {
     "data": {
      "image/png": "[encoded data removed]",
      "text/plain": [
       "<Figure size 432x288 with 1 Axes>"
      ]
     },
     "metadata": {
      "needs_background": "light"
     },
     "output_type": "display_data"
    },
    {
     "name": "stdout",
     "output_type": "stream",
     "text": [
      "layer_0\n",
      "['00000000', '00000000', '00000000', '00000000', '00000000', '00000000', '00000000', '00000000', '00000000', '00000000', '00000000', '00000000', '00000000', '00000000', '00000000', '00000000', '00000000', '00000000', '00000000', '00000000', '00000000', '00000000', '00000000', '00000001', '00000000', '00000000', '00000000', '00000000', '00000000', '00000000', '00000000', '00000007', '00000000', '00000000', '00000000', '00000000', '00000000', '00000000', '00000000', '00000000', '00000000', '00000000', '00000000', '00000000', '00000000', '00000000', '00000000', '00000000', '00000000', '00000300', '00000000', '00000000', '00000000', '00000000', '00000000', '00000000', '00000000', '00000000', '00000000', '00000000', '00000000', '00000500', '00000E00', '00000000', '00000000', '00000000', '00000000', '01000000', '00000000', '00000000', '00000000', '00000000', '00000000', '00000000', '00000000', '00000000', '00000000', '00000000', '00000000', '00000000', '00000000', '00000000', '00000000', '00000000', '00000000', '00000000', '00000000', '00000000', '00000000', '00000000', '00000000', '00000000', '00000000', '00000000', '00000000', '00000400', '00000000', '00000000', '00000000', '00000000', '00000000', '00000000', '00000000', '00000000', '00000000', '00000000', '00000000', '00000000', '00000000', '08000000', '00000000', '00000000', '00000000', '00000000', '00000000', '00000000', '00000000', '00000000', '00000000', '00000000', '00000000', '00000000', '00000000', '00000000', '00000000', '00000000', '00000000', '00000000', '00000000', '00000000', '00000000', '00000000', '00000000', '00000000', '00000000', '00000000', '00000000', '00000000', '00000000', '00000000', '00000000', '00000000', '00000000', '00000000', '00000000', '00000000', '00000000', '00000000', '00000000', '00000000', '00000000', '00000000', '00000000', '00000000', '00000000', '00000000', '00000000', '00000000', '00000000', '00000000', '00000000', '00000000', '00000000', '00000000', '00000000', '00000000', '00000000', '00000000', '00000000']\n",
      "['00000000', '00000000', '00000000', '00000000', '00000000', '00000000', '00000000', '00000000', '00000000', '00000000', '00000000', '00000000', '00000000', '00000000', '00000000', '00000000', '00061938', '45381906', '00000000', '00000000', '00000000', '00000000', '0000061D', '35557C87', '55230000', '00000000', '00000000', '00000000', '00000006', '1C245166', '7168723D', '07000000', '00000000', '00000000', '00000001', '081E2646', '715B4240', '7B56350F', '00000000', '00000000', '00000000', '00132D38', '4B706065', '59274761', '5A230000', '00000000', '00000000', '0000060E', '31596A47', '444F6210', '2851581A', '00000000', '00000000', '00000006', '1D17545D', '3E29000C', '3B000045', '6D250600', '00000000', '00000000', '04121A3D', '6B4C4102', '000B0900', '00417E42', '1A000000', '00000000', '0000121F', '35532D24', '1F000004', '0000003F', '79522600', '00000000', '00000007', '0C2C4D49', '0F000000', '00000000', '003E6863', '1C000000', '00000000', '0011094C', '58340000', '01000000', '0000003F', '65671800', '00000000', '00000908', '27645C0D', '00000000', '00000000', '003F5F61', '12000000', '00000000', '0100465D', '44000000', '00000000', '00100047', '4A420000', '00000000', '00000000', '47652900', '00000000', '0000101F', '1D5B4713', '00000000', '00000000', '00004265', '14000000', '0000061A', '29293840', '1B000000', '00000000', '00000000', '56681300', '0000000E', '253C3B42', '3B0A0000', '00000000', '00000000', '0000587E', '411B1323', '3C43414C', '4D441100', '00000000', '00000000', '00000000', '4B86696A', '544F615B', '583E2610', '00000000', '00000000', '00000000', '00003A63', '6C6F6766', '5D3C2110', '02000000', '00000000', '00000000', '00000000', '052B515F', '4D3B201B', '00000000', '00000000', '00000000', '00000000', '00000000', '00000E0F', '01000000', '00000000', '00000000', '00000000', '00000000', '00000000', '00000000', '00000000', '00000000', '00000000', '00000000', '00000000', '00000000', '00000000', '00000000', '00000000', '00000000', '00000000', '00000000', '00000000', '00000000', '00000000', '00000000']\n",
      "['00000000', '00000000', '00000000', '00000000', '00000000', '00000000', '00000000', '00000000', '00000000', '00000000', '00000000', '00000000', '00000000', '00000000', '00000000', '00000000', '00000000', '00000000', '00000000', '00000000', '00000000', '00000000', '00000000', '00000000', '08251900', '00000000', '00000711', '03000000', '00000000', '00000000', '00000710', '2C0F0000', '00000000', '08201600', '00000000', '00000000', '00000000', '00114E26', '03000000', '00000527', '2D0A0000', '00000000', '00000000', '00030022', '3E250900', '00000000', '00314B14', '00000000', '00000000', '00000013', '061F4B24', '05000000', '0005003B', '54140000', '00000000', '00000000', '00001242', '491C0000', '0000000A', '003A5614', '00000000', '00000000', '00000200', '295C3813', '00000000', '00000944', '55190000', '00000000', '00000000', '12011E66', '2F080000', '00000000', '16514A1B', '00000000', '00000001', '0B1F1503', '225C3405', '00000000', '00001A63', '400D0005', '0B0F1A16', '1E29140A', '04325148', '23020000', '00000000', '197C6727', '191A241C', '20251115', '13123067', '6D2F1000', '00000000', '00000060', '6A3D2F24', '24191D2C', '2B30383F', '26417028', '05000000', '00000000', '000C3133', '2F29393A', '332C251E', '19170729', '68290000', '00000000', '00000000', '0E161616', '201B1307', '00000000', '17445225', '00000000', '00000000', '00000000', '00000000', '00000000', '00002061', '3E110000', '00000000', '00000000', '00000000', '00000000', '00000000', '21703703', '00000000', '00000000', '00000000', '00000000', '00000000', '00001F6D', '3E060000', '00000000', '00000000', '00000000', '00000000', '00000000', '1F6F4A04', '00000000', '00000000', '00000000', '00000000', '00000000', '00002167', '500C0000', '00000000', '00000000', '00000000', '00000000', '00000000', '16695913', '00000000', '00000000', '00000000', '00000000', '00000000', '0000003A', '65260000', '00000000', '00000000', '00000000', '00000000', '00000000', '00183213', '00000000', '00000000', '00000000', '00000000', '00000000', '00000000', '00000000', '00000000']\n",
      "['00000000', '00000000', '00000000', '00000000', '00000000', '00000000', '00000000', '00000000', '00000000', '00000000', '00000000', '00000000', '00000000', '00000000', '00000000', '00000000', '00000000', '00000000', '00000000', '00000000', '00000000', '00000000', '00000000', '00000000', '00000000', '00000000', '00000000', '00000000', '00000000', '00000000', '00000031', '0F000000', '00000000', '00000000', '00000000', '00000000', '00000000', '002A0000', '00000000', '00000000', '00000000', '00000000', '00000000', '00000018', '0C000000', '00000000', '00000000', '00000000', '00000000', '00000008', '030A0000', '00000000', '00000000', '00000000', '00000000', '00000000', '00130B00', '00000000', '00000000', '00000000', '00000000', '00000000', '00000116', '00000000', '00000000', '00000000', '00000000', '00000000', '00000000', '0D0E0000', '00000000', '00000000', '00000000', '00000000', '00000000', '00090E00', '00000000', '00000000', '00000000', '00000000', '00000000', '00000510', '06000000', '00000000', '00000000', '00000000', '00000000', '00000005', '12000000', '00000000', '00000000', '00000000', '00000000', '00000000', '00100E00', '00000000', '00000000', '00000000', '00000000', '00000000', '0000001D', '02000000', '00000000', '00000000', '00000000', '00000000', '00000000', '02190000', '00000000', '00000000', '00000000', '00000000', '00000000', '00000D04', '00000000', '00000000', '00000000', '00000000', '00000000', '00000018', '06000000', '00000000', '00000000', '00000000', '00000000', '00000000', '00220000', '00000000', '00000000', '00000000', '00000000', '00000000', '00000810', '00000000', '00000000', '00000000', '00000000', '00000000', '00000000', '24000000', '00000000', '00000000', '00000000', '00000000', '00000000', '00003200', '00000000', '00000000', '00000000', '00000000', '00000000', '00000001', '36000000', '00000000', '00000000', '00000000', '00000000', '00000000', '00000000', '00000000', '00000000', '00000000', '00000000', '00000000', '00000000', '00000000', '00000000', '00000000', '00000000']\n",
      "['00000000', '00000000', '00000000', '00000000', '00000000', '00000000', '00000000', '00000000', '00000000', '00000000', '00000000', '00000000', '00000000', '00000000', '00000000', '00000000', '00000000', '00000000', '00000000', '00000000', '00000000', '00000000', '00000000', '00000000', '00000000', '00000000', '00000000', '00000000', '00000000', '00000000', '00000000', '00000000', '00000000', '00000000', '00000000', '0000000D', '1A302306', '16180600', '00000000', '00000000', '00000000', '00000000', '00000000', '0000071C', '0F000000', '00000000', '00000000', '00000000', '00000000', '00000000', '00050000', '00000000', '00000000', '00000000', '00000000', '00000000', '00000000', '09000000', '00000000', '00000000', '00000000', '0000000E', '00000000', '00000C00', '00000000', '00000000', '00000000', '00000000', '13000000', '00000011', '02000000', '00000000', '00000000', '00000000', '000C0000', '00000000', '07090000', '00000000', '00000000', '00000000', '00000D05', '00000000', '00020F00', '00000000', '00000000', '00000000', '00000422', '00000000', '0000000B', '01000000', '00000000', '00000000', '00000000', '00000000', '00000000', '0B090000', '00000000', '00000000', '00000000', '00000000', '00000000', '00001800', '00000000', '00000000', '00000000', '00000000', '00000500', '00000003', '06000000', '00000000', '00000000', '00000000', '00000000', '00000000', '00120D00', '00000000', '00000000', '00000000', '00000000', '00000000', '0000001D', '02000000', '00000000', '00000000', '00000000', '00000000', '00000000', '001D0200', '00000000', '00000000', '00000000', '00000000', '00000000', '0000001D', '02000000', '00000000', '00000000', '00000000', '00000000', '00000000', '00220700', '00000000', '00000000', '00000000', '00000000', '00000000', '00000028', '17050000', '00000000', '00000000', '00000000', '00000000', '00000000', '00001E11', '01000000', '00000000', '00000000', '00000000', '00000000', '00000000', '09130400', '00000000', '00000000', '00000000', '00000000', '00000000', '00000000', '00000000', '00000000']\n",
      "['00000000', '00000000', '00000000', '00000000', '00000000', '00000000', '00000000', '00000000', '00000000', '00000000', '00000000', '00000000', '00000000', '00000000', '00000000', '00000000', '00000000', '00000000', '00000000', '00000000', '00000000', '00000000', '00000001', '020A0600', '0F000000', '00000000', '00000000', '00000000', '00000004', '0E0B1510', '19150012', '00000000', '00000000', '00000000', '00000005', '0E0C0613', '070B0200', '00060500', '00000000', '00000000', '00000001', '12060711', '19010000', '00000000', '02000000', '00000000', '00000000', '000B0106', '18080000', '00000000', '00000000', '00000000', '00000000', '0000000B', '08130000', '00000000', '13010000', '00000000', '00000000', '00000000', '00001700', '00000000', '00041800', '00000000', '00000000', '00000000', '00000013', '00000000', '00000010', '0F000000', '00000000', '00000000', '00000000', '00030D00', '0004000D', '0F121C00', '00000000', '00000000', '00000000', '00000000', '01051102', '14130F1A', '13000000', '00000000', '00000000', '00000000', '00061504', '0A1B0300', '00000000', '00000000', '00000000', '00000000', '00000910', '000B0B00', '00000000', '00000003', '0A000000', '00000000', '00000010', '06002300', '00000000', '00000000', '00000615', '08000600', '00000000', '11000A14', '00000000', '00250000', '00000000', '00091304', '15000000', '000D010E', '0B000000', '00031902', '00000000', '00000000', '00020000', '0000000F', '021D0000', '0000110C', '02000000', '00080A00', '00000000', '00000000', '000A1500', '00000006', '00000000', '00000000', '000B0B00', '00000000', '00000004', '07000000', '00000000', '00000000', '00000000', '00000000', '00000000', '00180000', '00000000', '00000000', '00000000', '00000000', '00000000', '00000001', '0A050000', '00000000', '00000000', '00000000', '00000000', '00000000', '00000000', '00000000', '00000000', '00000000', '00000000', '00000000', '00000000', '00000000', '00000000', '00000000', '00000000', '00000000', '00000000', '00000000', '00000000', '00000000', '00000000', '00000000', '00000000']\n",
      "['00000000', '00000000', '00000000', '00000000', '00000000', '00000000', '00000000', '00000000', '00000000', '00000000', '00000000', '00000000', '00000000', '00000000', '00000000', '00000000', '18371D03', '00000000', '00000000', '00000000', '00000000', '00000000', '00000039', '3E0B0000', '00000000', '00000000', '00000000', '00000000', '00000000', '00315513', '00000000', '00000000', '00000000', '00000000', '00000000', '00000026', '55180000', '00000000', '00000000', '00000000', '00000000', '00000000', '00265518', '00000000', '00000000', '00000000', '00000000', '00000000', '0000001F', '59220300', '00000000', '00000000', '00000000', '00000000', '00000000', '00085540', '10000000', '00000000', '00000000', '00000000', '00000000', '00000000', '314A1D00', '00000000', '00000000', '00000000', '00000000', '00000000', '00001750', '27000000', '00000000', '00000000', '00000000', '00000000', '00000000', '17502700', '00000000', '00000000', '00000000', '00000000', '00000000', '00001750', '27000000', '00000000', '00000000', '00000000', '00000000', '00000000', '17502700', '00000000', '00000000', '00000000', '00000000', '00000000', '00000F58', '2F000000', '00000000', '00000000', '00000000', '00000000', '00000000', '00554605', '00000000', '00000000', '00000000', '00000000', '00000000', '00000031', '60170000', '00000000', '00000000', '00000000', '00000000', '00000000', '00155829', '00000000', '00000000', '00000000', '00000000', '00000000', '00000000', '55480400', '00000000', '00000000', '00000000', '00000000', '00000000', '00004251', '08000000', '00000000', '00000000', '00000000', '00000000', '00000000', '315A0C00', '00000000', '00000000', '00000000', '00000000', '00000000', '00003259', '0C000000', '00000000', '00000000', '00000000', '00000000', '00000000', '00360800', '00000000', '00000000', '00000000', '00000000', '00000000', '0000001B', '04000000', '00000000', '00000000', '00000000', '00000000', '00000000', '00000000', '00000000', '00000000', '00000000', '00000000', '00000000', '00000000', '00000000', '00000000']\n",
      "['00000000', '00000000', '00000000', '00000000', '00000000', '00000000', '00000000', '00000000', '00000000', '00000000', '00000000', '00000000', '00000000', '00000000', '00000000', '00000000', '00000000', '00000000', '00000000', '00000000', '00000000', '00000004', '01040E00', '00000000', '00000000', '00000000', '00000000', '00000005', '0C020000', '00000000', '00000000', '00000000', '00000000', '00000000', '00110000', '00000000', '00000000', '00000000', '00000000', '00000000', '00000000', '00000000', '00000000', '00000000', '00000000', '00000000', '00000000', '00000000', '00000000', '00000000', '00000000', '00000000', '00000000', '00000000', '00000000', '00000000', '00000000', '00000000', '00000000', '00000000', '00000000', '00000000', '0B010000', '00000000', '00000000', '00000000', '00000000', '00000000', '0B0F0000', '00000000', '00000000', '00000000', '00000000', '00040B05', '00000000', '00000000', '00000000', '00000000', '00000000', '00000512', '00000000', '00000000', '00000000', '00000000', '00000000', '00000000', '00000000', '00000000', '00000000', '00000000', '00000000', '00000000', '00000000', '00000000', '00000000', '00000000', '00000000', '00000000', '00000000', '00000000', '00000000', '00000000', '00000000', '00000000', '00000000', '00000000', '00060000', '00000000', '00000000', '00000000', '00000000', '00000009', '00000000', '0000000C', '07000000', '00000000', '00000000', '00000007', '0F000000', '00000002', '09040000', '00000000', '00000000', '00000000', '00130000', '00000000', '00000000', '00000000', '00000000', '00000000', '00000000', '00000000', '00000000', '00000000', '00000000', '00000000', '00000000', '00000300', '00000000', '00000000', '00000000', '00000000', '00000000', '00000000', '00000000', '00000000', '00000000', '00000000', '00000000', '00000000', '00000000', '00000000', '00000000', '00000000', '00000000', '00000000', '00000000', '00000000', '00000000', '00000000', '00000000', '00000000', '00000000', '00000000', '00000000', '00000000', '00000000', '00000000', '00000000']\n",
      "['00000000', '00000000', '00000000', '00000000', '00000000', '00000000', '00000000', '00000000', '00000000', '00000000', '00000000', '00000000', '00000000', '00000000', '00000000', '00000000', '00000000', '00000000', '00000000', '00000000', '00000000', '00000000', '00000000', '00000000', '00000000', '00000000', '00000000', '00000000', '00000000', '00000000', '00000000', '00000000', '00000000', '00000000', '00000000', '00070A00', '00000000', '00000000', '00000000', '00000000', '00000000', '0000021D', '00000000', '00000000', '00000000', '00000000', '00000000', '00000000', '021D0000', '00000000', '00000000', '00000000', '00000000', '00000000', '0000021D', '00000000', '00000000', '00000000', '00000000', '00000000', '00000000', '021F0000', '00000000', '00000000', '00000000', '00000000', '00000000', '00000426', '07000000', '00000000', '00000000', '00000000', '00000000', '00000000', '021B0400', '00000000', '00000000', '00000000', '00000000', '00000000', '00000016', '09000000', '00000000', '00000000', '00000000', '00000000', '00000000', '00160900', '00000000', '00000000', '00000000', '00000000', '00000000', '0000001E', '11000000', '00000000', '00000000', '00000000', '00000000', '00000000', '001A0D00', '00000000', '00000000', '00000000', '00000000', '00000000', '0000000F', '12000000', '00000000', '00000000', '00000000', '00000000', '00000000', '00132304', '00000000', '00000000', '00000000', '00000000', '00000000', '00000009', '1E110000', '00000000', '00000000', '00000000', '00000000', '00000000', '00001A05', '00001100', '00000000', '00000000', '00000000', '00000000', '00000000', '120B0000', '00000000', '00000000', '00000000', '00000000', '00000000', '00000803', '00000000', '00000000', '00000000', '00000000', '00000000', '00000000', '19180000', '02000000', '00000000', '00000000', '00000000', '00000000', '00003131', '0B020200', '00000000', '00000000', '00000000', '00000000', '00000000', '15050017', '03000000', '00000000', '00000000', '00000000', '00000000', '00000000', '00000000', '00000000', '00000000']\n",
      "['00000000', '00000000', '00000000', '00000000', '00000000', '00000000', '00000000', '00000000', '00000000', '00000000', '00000000', '00000000', '00000000', '00000000', '00000000', '00000000', '00000000', '00000000', '00000017', '00000000', '00000000', '00000000', '00000000', '00000000', '00000000', '0B000000', '00000000', '00000000', '00000000', '00000000', '00000000', '0000370E', '00000000', '00000000', '00000000', '00000000', '00000000', '0000001A', '34090000', '00000000', '00000000', '00000000', '00150200', '00000000', '0040160A', '00000000', '00000000', '00000000', '00000303', '05000000', '00002F2A', '12000000', '00000000', '00000000', '00000000', '0B180300', '00000000', '31210500', '00000000', '00000000', '00000000', '00003427', '01000000', '002D2E00', '00000000', '00000000', '00000000', '00000000', '40160600', '00000047', '120B0000', '00000000', '00000000', '00000000', '001D3115', '00000000', '2B271800', '00000000', '00000000', '00000000', '0000001D', '1E130000', '00163B10', '00000000', '00000000', '00000000', '00000000', '00000000', '00000442', '180C0000', '00000000', '00000000', '00000000', '00130000', '00000000', '06152B04', '00000000', '00000000', '00000000', '00002109', '00000000', '00000B20', '00000000', '00000000', '00000000', '00000D15', '261E0000', '00001000', '0D300D04', '00000000', '00000000', '00000006', '1C240C00', '00000014', '2015292F', '13000000', '00000000', '00000000', '000A1003', '00000000', '00470C0A', '09060100', '00000000', '00000000', '00000000', '00000000', '00001F31', '18000000', '00000000', '00000000', '00000000', '00000000', '00000011', '3D0F0300', '00000000', '00000000', '00000000', '00000000', '00000000', '00342510', '00000000', '00000000', '00000000', '00000000', '00000000', '00002C1E', '0A000000', '00000000', '00000000', '00000000', '00000000', '00000000', '24290A00', '00000000', '00000000', '00000000', '00000000', '00000000', '00000000', '00000000', '00000000', '00000000', '00000000', '00000000', '00000000', '00000000', '00000000', '00000000', '00000000']\n",
      "['00000000', '00000000', '00000000', '00000000', '00000000', '00000000', '00000000', '00000000', '00000000', '00000000', '00000000', '00000000', '00000000', '00000000', '00000000', '00000000', '00000000', '00000000', '00000000', '00000000', '00000000', '00000000', '00000000', '00000000', '00000000', '00000000', '00000000', '00000000', '00000000', '00000000', '00000000', '00000000', '00000000', '00000000', '00000A00', '00000000', '00000000', '00000000', '00000000', '00000000', '00000000', '0212000B', '00000000', '00000000', '00000000', '00000000', '00000000', '0000000D', '08030000', '00000800', '08000000', '00000000', '00000000', '00000000', '00000F12', '00000000', '00000000', '00000000', '00000000', '00000000', '00000000', '001A0C0A', '00000000', '00000000', '00000000', '00000000', '00000000', '00000000', '00000000', '03000300', '00000000', '00000000', '00000000', '00000000', '00000000', '00000000', '00000000', '00000000', '00000000', '00000000', '00000000', '00000000', '00000000', '00000000', '00000000', '00000000', '00000A1B', '13100000', '00000000', '00000000', '00000000', '00000000', '00000000', '000D2236', '3D3C1906', '00000000', '00000000', '00000000', '00000000', '00000000', '09141F21', '05190000', '00000000', '00000000', '00000000', '00000000', '00000000', '00000000', '00000000', '00000000', '00000000', '00000000', '09000000', '00000000', '00000800', '0B030000', '00000000', '00000000', '00000000', '00000000', '00000000', '00000900', '00000000', '00000000', '00000000', '00000000', '00000000', '00070010', '03000000', '00000000', '00000000', '0D031300', '00000000', '00000000', '16110100', '00000000', '00000000', '0000070E', '200B0E00', '00000000', '05171B01', '00000000', '00000000', '00000000', '00111E2F', '2F2D1C0B', '02191917', '00000000', '00000000', '00000000', '00000000', '000E1C30', '41525B42', '23060000', '00000000', '00000000', '00000000', '00000000', '00000000', '00000000', '00000000', '00000000', '00000000', '00000000', '00000000', '00000000', '00000000', '00000000', '00000000']\n",
      "['00000000', '00000000', '00000000', '00000000', '00000000', '00000000', '00000000', '00000000', '00000000', '00000000', '00000000', '00000000', '00000000', '00000000', '00000000', '00000000', '00000000', '00000000', '00000000', '00000000', '00000000', '00000000', '00000000', '00000000', '00000000', '00000000', '00000000', '00000000', '00000000', '00000000', '00000000', '00000000', '00000000', '00000000', '00000000', '00000000', '00000000', '00000000', '10273013', '00000000', '00000000', '00000000', '00000000', '00000012', '25270F00', '09070000', '00000000', '00000000', '00000000', '00001523', '1F080000', '00000000', '00000000', '00000000', '00000000', '0000091B', '0E000000', '00000000', '00000000', '00000000', '00000000', '00000004', '16000000', '00000000', '00000000', '00000000', '00000000', '00000000', '32130000', '00000000', '00000000', '00000000', '00000000', '00000000', '00250000', '00000000', '00000000', '00000000', '00000000', '00000000', '00000000', '00000000', '00000000', '00000000', '00000000', '00000000', '00000000', '00000006', '07000000', '00000000', '00000000', '00000000', '00000006', '06000000', '000B1B05', '00000000', '00000000', '00000000', '00000000', '05252200', '00000000', '00020000', '00000000', '00000000', '00000000', '00142800', '00000000', '00000000', '00000000', '00000000', '00000000', '00000A00', '00000018', '290D0000', '00000000', '00000000', '00000000', '00000000', '00000000', '00000000', '00000000', '00000000', '00000000', '00000000', '00000000', '00000000', '00000000', '00000000', '00000000', '00000000', '00000000', '00000000', '00000000', '00000000', '00000000', '00000000', '00000000', '00000000', '00000000', '00000000', '00000000', '00000000', '00000000', '00000000', '00000000', '00000000', '00000000', '00000000', '00000000', '00000000', '00000000', '00000000', '00000000', '00000000', '00000000', '00000000', '00000000', '00000000', '00000000', '00000000', '00000000', '00000000', '00000000', '00000000', '00000000', '00000000', '00000000', '00000000', '00000000']\n",
      "['00000000', '00000000', '00000000', '00000000', '00000000', '00000000', '00000000', '00000000', '00000000', '00000000', '00000000', '00000000', '00000000', '00000000', '00000000', '00000000', '00000000', '00000000', '00000000', '00000000', '00020609', '061B2116', '1313161D', '16060000', '00000000', '00000000', '00000000', '00000000', '00000000', '00000E24', '25130400', '00000000', '00000000', '00000000', '00000000', '00000000', '00000815', '05000000', '00000000', '00000000', '00000000', '00000000', '00000000', '00000600', '00000000', '00000000', '00000000', '00000000', '00000000', '00000000', '00000000', '00000000', '00000000', '00000000', '00000000', '00000000', '00000000', '00000000', '00000000', '00000000', '00000000', '00000000', '00000000', '00000000', '00000000', '00000000', '00000000', '00000000', '00000000', '00000000', '00000000', '00000000', '00000000', '00000000', '00000000', '00001322', '14050000', '00000000', '00000000', '00000000', '00000000', '00000000', '00001929', '13020000', '00000000', '00000000', '00000000', '00000000', '00000000', '00002315', '00000000', '00000000', '00000000', '00000000', '00000000', '00000000', '00140E00', '00000000', '00000000', '00000000', '00000000', '00000000', '00000000', '05000000', '00000000', '00000000', '00000000', '00000000', '00000000', '00000000', '00000000', '00000000', '00000819', '0A000000', '00000000', '00000000', '00000000', '00000000', '00000000', '1C070000', '00000000', '00000000', '00000000', '00000000', '00000000', '00000000', '00010000', '00000000', '00000000', '00000000', '00000000', '00000000', '00001918', '14010000', '00000000', '00000000', '00000000', '00000000', '00000000', '00000000', '00000000', '00000000', '00000000', '00000000', '00000000', '00000000', '00000000', '00000000', '00000000', '00000000', '00000000', '00000000', '00000000', '00000000', '00000000', '00000000', '00000000', '00000000', '00000000', '00000000', '00000000', '00000000', '00000000', '00000000', '00000000', '00000000', '00000000', '00000000', '00000000']\n",
      "['00000000', '00000000', '00000000', '00000000', '00000000', '00000000', '00000000', '00000000', '00000000', '00000000', '00000000', '00000000', '00000000', '00000000', '00000000', '00000000', '00000000', '00000400', '00000000', '00000000', '00000000', '00000000', '00000000', '00000511', '14000000', '00000000', '00000000', '00000000', '00000000', '00000009', '1A140200', '00000000', '00000000', '00000000', '00000000', '00000000', '00020B08', '00000000', '00000000', '00000000', '00000000', '00000000', '000F1E21', '0B000000', '00000000', '00000000', '00000000', '00000000', '0000082A', '25090000', '00000000', '00000000', '00000000', '00000000', '00000000', '06120300', '00000000', '00000000', '00000000', '00000000', '00000000', '00000001', '00000000', '00000000', '00000000', '00000000', '00000100', '00000000', '00000000', '00000000', '00000000', '00000000', '00000000', '00010000', '00000000', '00000000', '00000000', '00000000', '00000000', '00000001', '00000000', '00000000', '00151900', '00000000', '00000000', '00000000', '00000000', '01000000', '00001A25', '2C000000', '00000000', '00000000', '00000000', '00000700', '00000012', '04000000', '000B0300', '00000000', '00000007', '0A000000', '07000000', '17110000', '000C1F12', '00000000', '00000000', '000E0D00', '00000C00', '00000000', '00001E21', '11000000', '00000000', '00000019', '18000000', '06000000', '00000024', '290D0000', '00000000', '00000000', '00112300', '00000000', '00000000', '01140401', '00000000', '00000000', '0000000D', '35200000', '00000015', '1B0E1409', '00000000', '00000000', '00000000', '00062D51', '5B463E32', '39423A29', '12000000', '00000000', '00000000', '00000000', '09203F55', '5D514028', '15070000', '00000000', '00000000', '00000000', '00000000', '00000000', '00000000', '00000000', '00000000', '00000000', '00000000', '00000000', '00000000', '00000000', '00000000', '00000000', '00000000', '00000000', '00000000', '00000000', '00000000', '00000000', '00000000', '00000000', '00000000', '00000000', '00000000', '00000000', '00000000']\n",
      "['00000000', '00000000', '00000000', '00000000', '00000000', '00000000', '00000000', '00000000', '00000000', '00000000', '00000000', '00000000', '00000000', '00000000', '00000000', '00000000', '00000000', '00000000', '00000000', '00000000', '00000000', '00000000', '0000001B', '03000000', '00000000', '00000000', '00000000', '00000000', '00000000', '21340F00', '00000000', '00000000', '00000000', '00000000', '00000000', '00001256', '1E000000', '00000000', '00000000', '00000000', '00000000', '00010000', '074C2F00', '00000000', '00000000', '00000000', '00000000', '00000000', '0A000040', '3F030000', '00000000', '00000000', '00000000', '00000000', '00000400', '003B490F', '00000000', '00000000', '00000000', '00000000', '00000000', '00000029', '591C0000', '00000000', '00000000', '00000000', '00000000', '00000000', '00315126', '00000000', '00000000', '00000000', '00000000', '00000000', '00000031', '50270000', '00000000', '00000000', '00000000', '00000000', '00000000', '00325027', '00000000', '00000000', '00000000', '00000000', '00000000', '00000032', '50270000', '00000000', '00000000', '00000000', '00000000', '00000000', '00385621', '00000000', '00000000', '00000000', '00000000', '00000000', '00000041', '54170000', '00000000', '00000000', '00000000', '00000000', '00000000', '003F560D', '00000000', '00000000', '00000000', '00000000', '00000000', '0000003A', '590A0000', '00000000', '00000000', '00000000', '00000000', '00000000', '00305114', '00000000', '00000000', '00000000', '00000000', '00000000', '00000023', '591E0000', '00000000', '00000000', '00000000', '00000000', '00000300', '001D4730', '00000000', '00000000', '00000000', '00000000', '00000000', '00000007', '4F3A0000', '00000000', '00000000', '00000000', '00000000', '00000002', '000A4A3A', '00000000', '00000000', '00000000', '00000000', '00000000', '000F001A', '2D240000', '00000000', '00000000', '00000000', '00000000', '00000004', '14000B0D', '00000000', '00000000', '00000000', '00000000', '00000000', '00000000', '00000000', '00000000', '00000000']\n",
      "['00000000', '00000000', '00000000', '00000000', '00000000', '00000000', '00000000', '00000000', '00000000', '00000000', '00000000', '00000000', '00000000', '00000000', '00000000', '00000000', '00000000', '00000000', '00000000', '00000000', '00000000', '00000000', '00000000', '00000000', '00000000', '00000000', '00000000', '00000000', '00000000', '00000000', '00000000', '00000000', '00000000', '00000000', '00000000', '00000000', '00000000', '00051A00', '00000000', '00000000', '00000000', '00000000', '00000000', '00000000', '1F1A0000', '00000000', '00000000', '00000000', '0000000C', '192B4252', '58372236', '00000000', '00000000', '00000000', '00000612', '4373766C', '5C495A5E', '454C0000', '00000000', '00000000', '00003351', '6983677A', '5D4B443C', '5E725D34', '00000000', '00000000', '00000039', '5D787F7B', '492B0A0A', '002D6468', '5F180000', '00000000', '00000000', '185B7777', '66381304', '0001084D', '695A3602', '00000000', '00000000', '150B3673', '7C542A07', '00000000', '276D7543', '19000000', '00000000', '00002145', '5D5B5323', '08000000', '001A556F', '63230800', '00000000', '00000000', '0A233A33', '1A030000', '0000195F', '785A2A03', '00000000', '00000000', '00000000', '00000000', '00000000', '4764793C', '0D000000', '00000000', '00000000', '00000000', '00000000', '00257060', '53100000', '00000000', '00000000', '00000000', '00000000', '00000751', '74663204', '00000000', '00000000', '00000000', '00000000', '00000001', '347A653E', '0F000000', '00000000', '00000000', '00000000', '00000000', '00265B7F', '42160200', '00000000', '00000000', '00000000', '00000000', '00031470', '664A0D00', '00000000', '00000000', '00000000', '00000000', '0000000B', '44735E1E', '00000000', '00000000', '00000000', '00000000', '00000000', '0030625C', '2E030000', '00000000', '00000000', '00000000', '00000000', '0000185B', '733E1100', '00000000', '00000000', '00000000', '00000000', '00000E02', '2765551A', '04000000', '00000000', '00000000', '00000000', '00000000', '19473D54', '28040000', '00000000', '00000000', '00000000']\n",
      "['00000000', '00000000', '00000000', '00000000', '00000000', '00000000', '00000000', '00000000', '00000000', '00000000', '00000000', '00000000', '00000000', '00000000', '00000000', '00000000', '00000000', '00000000', '00000000', '00000000', '00000000', '00000000', '00000000', '00000000', '00000000', '00000000', '00000000', '00000000', '00000000', '00000000', '00000000', '00000000', '00000000', '00000000', '00000000', '00000000', '00000000', '00000000', '00000000', '00000000', '00000000', '00000000', '00000000', '00000000', '00000000', '00000000', '00000000', '00000000', '00000000', '00000000', '00000000', '00000000', '00000000', '00000000', '00000000', '00000000', '00000000', '00000000', '00000000', '00000000', '00000000', '00000000', '00000000', '00000000', '00000000', '00000000', '00000000', '00000000', '00000000', '00000000', '00000000', '00000000', '00000000', '00000000', '00000000', '00000000', '00000000', '00000000', '00000000', '00000000', '00000000', '00000000', '00000000', '00000003', '00000000', '00000000', '00000000', '00000000', '00000000', '00000000', '00000000', '00000000', '00000000', '00000000', '00000000', '00000000', '00000000', '00000000', '00000000', '00000000', '00000000', '00000000', '00000000', '00000000', '00000000', '00000000', '00000000', '00000000', '00000000', '00000000', '00000000', '00000000', '00000000', '00000000', '00000000', '00000000', '00000000', '00000000', '00000000', '00000000', '00000000', '00000000', '00000000', '00000000', '00000000', '00000000', '00000000', '00000000', '00000000', '00000000', '00000000', '00000000', '00000000', '00000000', '00000000', '00000000', '00000000', '00000000', '00000000', '00000000', '00000000', '00000000', '00000000', '00000000', '00000000', '00000000', '00000000', '00000000', '00000000', '00000000', '00000000', '00000000', '00000000', '00000000', '00000000', '00000000', '00000000', '00000000', '00000000', '00000000', '00000000', '00000000', '00000000', '00000000', '00000000', '00000000', '00000000', '00000000', '00000000']\n",
      "['00000000', '00000000', '00000000', '00000000', '00000000', '00000000', '00000000', '00000000', '00000000', '00000000', '00000000', '00000000', '00000000', '00000000', '00000000', '00000000', '00000000', '00000000', '00000000', '00000000', '00000000', '00000000', '00000000', '00000001', '1A340700', '00000000', '00000000', '00000000', '00000000', '00030807', '030A3F30', '00000000', '00000000', '00000000', '00000005', '18251B1E', '2520090A', '4E140000', '00000000', '00000000', '00000000', '00123A30', '0C0E0200', '000B2B00', '00000000', '00000000', '00000000', '00001040', '4D060000', '00000000', '00000000', '00000000', '00000000', '00000000', '214B2C00', '00000007', '36080000', '00000000', '00000000', '00000000', '0000273C', '0F000000', '09474300', '00000000', '00000000', '00000000', '00000000', '17351C00', '0000463A', '00000000', '00000000', '00000000', '00000000', '00000638', '3B000002', '2B000000', '00000000', '00000000', '00000000', '00000000', '0031460A', '00000000', '00000000', '00000000', '00000000', '00000000', '00000033', '540B0000', '00000000', '00000000', '00000000', '00000000', '00000000', '15564500', '00000000', '00000000', '00000000', '00000000', '00000000', '0312404E', '0E000000', '00000000', '00000000', '00000000', '00000000', '00000E36', '550A0000', '00000000', '00000000', '00000000', '00000000', '00000008', '33540D00', '00003C00', '00000000', '00000000', '00000000', '00000000', '00184F34', '0000003B', '42000000', '00000000', '00000000', '00000000', '00000028', '53080000', '30580600', '00000000', '00000000', '00000000', '00000000', '00335000', '0000480D', '00000000', '00000000', '00000000', '00000000', '00000031', '48000002', '0B000000', '00000000', '00000000', '00000000', '00000000', '00232D00', '00000000', '00000000', '00000000', '00000000', '00000000', '00000010', '1D000000', '00000000', '00000000', '00000000', '00000000', '00000000', '00020C0E', '00000000', '00000000', '00000000', '00000000', '00000000', '00000000', '00000000', '00000000', '00000000', '00000000', '00000000']\n",
      "['00000000', '00000000', '00000000', '00000000', '00000000', '00000000', '00000000', '00000000', '00000000', '00000000', '0000002F', '24050000', '00000000', '00000000', '00000000', '00000000', '0000001B', '2E000000', '00000000', '00000000', '00000000', '00000000', '00000000', '29130006', '11030000', '00000000', '00000000', '00000000', '00000000', '00190800', '16291302', '00000000', '00000000', '00000000', '00000000', '00001110', '00181201', '00000000', '00000000', '00000000', '00000000', '00000006', '12001E16', '00000000', '00000000', '00000000', '00000000', '00000000', '00000625', '17010000', '00000000', '00000000', '00000000', '00000000', '00000014', '1E110300', '00000000', '00000000', '00000000', '00000000', '00000000', '000E2510', '00000000', '00000000', '00000000', '00000000', '00000000', '0000111C', '12060003', '0D050000', '00000000', '00000000', '00000000', '00000000', '0D250600', '121B2326', '0D000000', '00000000', '00000000', '00000000', '00041D14', '00221200', '00001A09', '00000000', '00000000', '00000000', '00000000', '2D130400', '001D3106', '100F0000', '00000000', '00000000', '00000000', '001D240B', '00001401', '000B2110', '00000000', '00000000', '00000000', '0000001E', '25000016', '10000000', '26180000', '00000000', '00000000', '00000000', '00232504', '00030200', '00002B1E', '00000000', '00000000', '00000000', '00000025', '1F010000', '00000000', '21130000', '00000000', '00000000', '00000000', '00132A0D', '00000000', '06121B0E', '00000000', '00000000', '00000000', '00000003', '151E0800', '001F2300', '0F100000', '00000000', '00000000', '00000000', '00160000', '1624370F', '000E1902', '00000000', '00000000', '00000000', '00000000', '2F1E0000', '0000221D', '03000000', '00000000', '00000000', '00000000', '0000000C', '1E202D2E', '10000000', '00000000', '00000000', '00000000', '00000000', '00000000', '00000000', '00000000', '00000000', '00000000', '00000000', '00000000', '00000000', '00000000', '00000000', '00000000', '00000000', '00000000', '00000000', '00000000', '00000000', '00000000']\n",
      "['00000000', '00000000', '00000000', '00000000', '00000000', '00000000', '00000000', '00000000', '00000000', '00000000', '00000000', '00000000', '00000000', '00000000', '00000000', '00000000', '00000000', '00000000', '00000000', '00000000', '00000000', '00000000', '00000000', '00000000', '00000000', '00000000', '00000000', '00000000', '00000000', '00000000', '00000000', '00000000', '00000000', '00000000', '00000000', '00020F27', '2E220F00', '00000000', '00000000', '00000000', '00000000', '00000721', '3F516779', '6C410300', '00000000', '00000000', '00000000', '00000002', '23545556', '4C4B7866', '1E000000', '00000000', '00000000', '00000000', '001A4C47', '3F211A15', '3E713300', '00000000', '00000000', '00000000', '0000002D', '555A0A00', '00002E65', '3D000200', '00000000', '00000000', '00000000', '00166545', '0E001523', '28402301', '00000000', '00000000', '00000000', '0000001D', '6A572A23', '3C331429', '1B000000', '00000000', '00000000', '00000000', '00206C76', '5B626841', '00030000', '00000000', '00000000', '00000000', '00000000', '3D515F72', '572D0000', '00000000', '00000000', '00000000', '00000000', '00000300', '36623812', '00000000', '00000000', '00000000', '00000000', '00000000', '000D336D', '31000000', '00000000', '00000000', '00000000', '00000000', '00000010', '3A713B00', '00000000', '00000000', '00000000', '00000000', '00000000', '051A4247', '22000000', '00000000', '00000000', '00000000', '00000000', '0001224B', '342A0D00', '00000000', '00000000', '00000000', '00000000', '00000014', '4A4B3216', '00000000', '00000000', '00000000', '00000000', '00000000', '08384B4B', '13000000', '00000000', '00000000', '00000000', '00000000', '0004294A', '43291200', '00000000', '00000000', '00000000', '00000000', '00000117', '494B330A', '00000000', '00000000', '00000000', '00000000', '00000000', '0E3B433A', '13010000', '00000000', '00000000', '00000000', '00000000', '00062E41', '2D220B00', '00000000', '00000000', '00000000', '00000000', '00000006', '1520290C', '00000000', '00000000', '00000000', '00000000']\n",
      "['00000000', '00000000', '00000000', '00000000', '00000000', '00000000', '00000000', '00000000', '00000000', '00000000', '00000000', '00000000', '00000000', '00000000', '00000000', '00000000', '00000004', '1B160000', '00000000', '00000001', '04030000', '00000000', '00000000', '000A1A38', '0A000000', '00000000', '000F2D20', '00000000', '00000000', '00000000', '00371800', '00000000', '00000000', '1C493100', '00000000', '00000000', '00000000', '10000000', '00000000', '00000002', '241D0000', '00000000', '00000108', '00000700', '00000000', '00000000', '00000025', '13000000', '00000000', '05040900', '00000000', '00000000', '00000000', '00051C00', '00000000', '00000000', '05000000', '00000000', '00000000', '00000000', '140F0000', '00000000', '00000000', '00000000', '00000000', '00000000', '00000011', '00000000', '0D1A0F00', '00000000', '00000000', '00000000', '00000000', '000B0000', '1517142E', '1B000000', '00000000', '00000000', '00000000', '0000000C', '261F1825', '12140C00', '00000100', '00000000', '00000000', '00000000', '0000122A', '29180200', '00000000', '0A030000', '00000000', '00000000', '00000000', '00000000', '00000000', '00000000', '00000000', '00000000', '00000000', '00000000', '00000000', '00000000', '00000000', '00000000', '00000000', '00000000', '00000000', '00000000', '00000000', '00000000', '00000000', '00000000', '00000000', '00000000', '00000000', '00090000', '00000000', '00000000', '00000000', '00000000', '00000000', '00000012', '00000000', '00000000', '00000000', '00000000', '00000000', '00000000', '000A1200', '00000000', '00000000', '00000000', '00000000', '00000000', '00000000', '12000000', '00000000', '00000000', '00000000', '00000000', '00000000', '00000000', '05000000', '00000000', '00000000', '00000000', '00000000', '00000000', '00000000', '00000000', '00000000', '00000000', '00000000', '00000000', '00000000', '00000000', '00000000', '00000000', '00000000', '00000000', '00000000', '00000000', '00000000', '00000000', '00000000', '00000000', '00000000', '00000000', '00000000']\n",
      "['00000000', '00000000', '00000000', '00000000', '00000000', '00000000', '00000000', '00000000', '00000000', '00000000', '00000000', '00000000', '00000000', '00000000', '00000000', '00000000', '00000008', '27474627', '07000000', '00000000', '00000000', '00000000', '00000000', '0C1D1D10', '111E1F0D', '00000000', '00000000', '00000000', '00000000', '000C1725', '384D4C3F', '22150300', '00000000', '00000000', '00000000', '020A2535', '413F474D', '4D40260D', '00000000', '00000000', '00000000', '000A1E35', '2F282843', '4640404F', '41220300', '00000000', '00000000', '00000B20', '2B282F42', '595C5853', '53584122', '03000000', '00000000', '0000000B', '1D27313A', '4C565A5C', '4734354A', '41220300', '00000000', '00000000', '0A1E2B40', '443B2B32', '4D4C2E1B', '2C4A4122', '03000000', '00000000', '000C202B', '3B3E3F3E', '44514337', '281C2338', '3A220300', '00000000', '0000000F', '1A393A37', '2A1A160C', '1E271F18', '29484022', '03000000', '00000000', '0614322C', '2D262B1C', '0D1F2C24', '0D011938', '3A220300', '00000000', '00051A37', '515B4D2E', '0F000406', '06020001', '19383A22', '03000000', '00000012', '1C39463C', '1F000000', '00000000', '000B2948', '40220300', '00000000', '0005203F', '482D0E00', '00000000', '00000517', '2F45351D', '02000000', '00000017', '36555A3B', '1C000000', '00000005', '1B294033', '260A0100', '00000000', '00173655', '60412200', '00000001', '1630383C', '29361F18', '02000000', '00000008', '25444741', '393B2D2D', '37453825', '19172B25', '1D050000', '00000000', '000F1835', '45442F22', '30302618', '1D212933', '2B1B0400', '00000000', '00000008', '1E232B2C', '3E3B2D2D', '34392B2A', '2B261304', '00000000', '00000000', '00000721', '30343444', '53442F1F', '2A2B210B', '00000000', '00000000', '00000000', '00031327', '29190A19', '2E3E2B16', '01000000', '00000000', '00000000', '00000000', '000B2544', '53442C12', '07000000', '00000000', '00000000', '00000000', '00000000', '00000000', '00000000', '00000000', '00000000', '00000000', '00000000', '00000000', '00000000', '00000000', '00000000', '00000000']\n",
      "['00000000', '00000000', '00000000', '00000000', '00000000', '00000000', '00000000', '00000000', '00000000', '00000000', '00000000', '00000000', '00000000', '00000000', '00000000', '00000000', '00000000', '00000000', '00000000', '00000000', '00000000', '00000000', '00000000', '00000000', '00000000', '00000000', '00000000', '00000000', '00000000', '00000000', '00000000', '00000000', '00000000', '00000000', '00000000', '00000000', '00000000', '00000000', '00000000', '00000000', '00000000', '00000000', '00000000', '00000000', '00000000', '00000000', '00000000', '00000000', '00000000', '00000000', '00000000', '00000000', '00000000', '00000000', '00000000', '00000000', '00000000', '00000000', '00000000', '00000000', '00000000', '00000000', '00000000', '00000000', '00000000', '00000000', '00000000', '00000000', '00000000', '00000000', '00000000', '00000000', '00000000', '00000000', '00000000', '00000000', '00000000', '00000000', '00000000', '00000000', '00000000', '00000000', '00000000', '00000000', '00000000', '00000000', '00000000', '00000000', '00000000', '00000000', '00000000', '00000000', '00000000', '00000000', '00000000', '00000000', '00000000', '00000000', '00000000', '00030000', '00000000', '00000000', '00000000', '00000000', '00000000', '00000005', '0E000000', '00000000', '00000000', '00000000', '00000000', '00000000', '00000B0D', '00000000', '00000000', '00000000', '00000000', '00000000', '00000000', '00000000', '00000000', '00000000', '00000000', '00000000', '00000000', '00000000', '00000000', '00000000', '00000000', '00000000', '00000000', '00000000', '00000000', '00000000', '00000000', '00000000', '00000000', '00000000', '00000000', '00000000', '00000000', '00000000', '00000000', '00000000', '00000000', '00000000', '00000000', '00000000', '00000000', '00000000', '00000000', '00000000', '00000000', '00000000', '00000000', '00000000', '00000000', '00000000', '00000000', '00000000', '00000000', '00000000', '00000000', '00000000', '00001D00', '00000000', '00000000', '00000000', '00000000']\n",
      "['00000000', '00000000', '00000000', '00000000', '00000000', '00000000', '00000000', '00000000', '00000000', '00000000', '00000000', '00000000', '00000000', '00000000', '00000000', '00000000', '00000000', '00000000', '00000000', '00000000', '00000000', '00000000', '00000000', '00000000', '00000000', '00000000', '00000000', '00000000', '00000000', '00000000', '00000124', '00000000', '00000000', '00000000', '00000000', '00000000', '00000000', '00382507', '00000000', '00000000', '00000000', '00000000', '00000000', '00000014', '2B110000', '00000000', '00000000', '00000000', '00000000', '00000000', '10101F05', '00000000', '00000000', '00000000', '00000000', '00000000', '00001726', '0A000000', '00000000', '00000000', '00000000', '00000000', '0000000E', '1C1E0100', '00000000', '00000000', '00000000', '00000000', '00000000', '08132408', '00000000', '00000000', '00000000', '00000000', '00000000', '00010E25', '11000000', '00000000', '00000000', '00000000', '00000000', '0000000E', '15180100', '00000000', '00000000', '00000000', '00000000', '00000000', '0D192102', '00000000', '00000000', '00000000', '00000000', '00000000', '00000D2C', '10000000', '00000000', '00000000', '00000000', '00000000', '00000014', '121A0300', '00000000', '00000000', '00000000', '00000000', '00000000', '001D2E03', '00000000', '00000000', '00000000', '00000000', '00000000', '00020617', '12000000', '00000000', '00000000', '00000000', '00000000', '0000001C', '1F160000', '00000000', '00000000', '00000000', '00000000', '00000000', '00182709', '00000000', '00000000', '00000000', '00000000', '00000000', '00000D20', '1F020000', '00000000', '00000000', '00000000', '00000000', '00000000', '13160A00', '00000000', '00000000', '00000000', '00000000', '00000000', '001A2617', '00000000', '00000000', '00000000', '00000000', '00000000', '00000025', '34140000', '00000000', '00000000', '00000000', '00000000', '00000000', '00001706', '00000000', '00000000', '00000000', '00000000', '00000000', '00000000', '00000000', '00000000', '00000000', '00000000']\n",
      "['00000000', '00000000', '00000000', '00000000', '00000000', '00000000', '00000000', '00000000', '00000000', '00000014', '2F0D0000', '00000000', '00000000', '00000000', '00000000', '00000000', '00040800', '00000000', '00000000', '00000000', '00000000', '00000000', '00000300', '00000000', '00000000', '00000000', '00000000', '00000000', '00000000', '02000000', '00000000', '00000000', '00000000', '00000000', '00000000', '00000C00', '00000000', '01000000', '00000000', '00000000', '00000000', '00000012', '18000000', '00010000', '00000000', '00000000', '00000000', '00000000', '0C180000', '00000000', '00000000', '00000000', '00000000', '00000000', '000C1F00', '00000000', '00000000', '00000000', '00000000', '00000108', '1217231E', '00000000', '00000000', '00000000', '00000000', '00000000', '04182100', '00000000', '00000000', '00000000', '00000000', '00000000', '00000000', '00000000', '00000A00', '00000000', '00000000', '00000000', '00000000', '00000000', '0000030F', '00000000', '00000000', '00000000', '00000000', '00000000', '00000002', '03000000', '00000000', '00000000', '00000000', '00000000', '00000000', '00000000', '00000000', '00000000', '00000000', '00000000', '00000000', '00000000', '00000000', '00000000', '00000000', '00000000', '00000000', '00000000', '040A0805', '02000000', '0000151A', '00000000', '00000000', '00000000', '05162622', '100E0F00', '00000E13', '06000000', '00000000', '00000000', '02162C14', '00000000', '00000000', '00000000', '00000000', '00000000', '00000C17', '00000000', '00000000', '00000000', '0000000C', '00000000', '00000000', '00000000', '00000000', '00000000', '00000000', '0C050000', '00000000', '00000000', '00000000', '0E080000', '00000000', '00000000', '00000000', '00000000', '00000000', '0A0C0000', '00000000', '00000000', '00000000', '00000000', '00000000', '00000000', '00000000', '00000000', '00000000', '00000000', '00000000', '00000000', '00000000', '00000000', '00000000', '00000000', '00000000', '00000000', '00000000', '00000000', '00000000', '00000000', '00000000']\n",
      "['00000000', '00000000', '00000000', '00000000', '00000000', '00000000', '00000000', '00000000', '00000000', '00000000', '00000000', '00000000', '00000000', '00000000', '00000000', '00000A01', '00040000', '00000000', '00000000', '00000000', '00000000', '0001050F', '00000000', '00000000', '00000000', '00000000', '00000000', '00050803', '00000000', '00000000', '00000000', '00000000', '00000000', '00000008', '00000000', '00000000', '00000000', '00000000', '00000000', '00000000', '00000000', '00000000', '00000000', '00000000', '00000000', '00000000', '00000000', '00000000', '000E1A1B', '1B120600', '00000000', '00000000', '00000000', '00000000', '0E222711', '01001100', '00000000', '00000300', '00000000', '00000000', '01000209', '0400080E', '00000000', '00000018', '0A000000', '00000000', '00000000', '0000000C', '0B000000', '00000000', '090A0000', '00000000', '00000000', '00000005', '0A000000', '00000000', '001F1903', '00000000', '00000000', '00000000', '05110000', '00000000', '00001010', '05000000', '00000000', '00000000', '000F0B00', '00000000', '00000021', '19040000', '00000000', '00000000', '00010406', '00000000', '0000122E', '2C0E0000', '00000000', '00000000', '0000000C', '0C000000', '00000F22', '0D000000', '00000000', '00000000', '00000000', '05090000', '00000019', '19030003', '020D0000', '00000000', '00000000', '00061000', '00000000', '030F1100', '00000000', '00000000', '00000000', '00000000', '00000000', '00000000', '00000000', '00000000', '00000005', '07000000', '00000000', '00000000', '00000000', '00000000', '00000000', '00000000', '00000000', '00000000', '00000000', '00000000', '00000000', '0013210F', '00000000', '00000000', '00000000', '00000000', '00000016', '1C2D201C', '0D000000', '00000000', '00000000', '00000000', '00000623', '1C070102', '01000000', '00000000', '00000000', '00000000', '0F2C2612', '10110600', '00000000', '00000000', '00000000', '00000000', '00000000', '00000000', '00000000', '00000000', '00000000', '00000000', '00000000', '00000000', '00000000', '00000000', '00000000']\n",
      "['00000000', '00000000', '00000000', '00000000', '00000000', '00000000', '00000000', '00000000', '00000000', '00000000', '00000000', '00000000', '00000000', '00000000', '00000000', '00000000', '00000000', '00000000', '00000000', '00000000', '00000000', '00000000', '00000000', '00000000', '00000000', '00000000', '00000000', '00000000', '00000000', '00000000', '00000000', '00000000', '00000000', '00000000', '00000000', '00000000', '00000000', '00000000', '00000000', '00000000', '00000000', '00000000', '00000000', '00000000', '00000000', '00000000', '00000000', '00000000', '00000000', '00000000', '00000000', '00000000', '00000000', '00000000', '00000000', '00000000', '00000000', '00000000', '00000000', '00000000', '00000000', '00000000', '00000000', '00000000', '00000000', '00000000', '00000300', '00000000', '00000000', '00000000', '00000000', '00000000', '00000000', '00000000', '00000000', '00000000', '00000000', '00000000', '00000000', '00000000', '00000000', '00000000', '00000000', '00000000', '00000000', '00000000', '00000500', '00000000', '00000000', '00000000', '00000000', '00000000', '00000000', '00000000', '00000000', '00000000', '00000000', '00000000', '00000000', '00000000', '00000000', '00000000', '00000000', '00000000', '00000000', '00000000', '00000000', '00000000', '00000000', '00000000', '00000000', '00000000', '00000000', '00000000', '00000000', '00000000', '00000000', '00000000', '00000000', '00000000', '00000000', '00000000', '00000000', '00000000', '00000000', '00000000', '00000000', '00000000', '00000000', '00000000', '00000000', '00000000', '00000000', '00000000', '00000000', '00000000', '00000000', '00000000', '00000000', '00000000', '00000000', '00000000', '00000000', '00000000', '00000000', '00000000', '00000000', '00000000', '00000000', '00000000', '00000000', '00000000', '00000000', '00000000', '00000000', '00000000', '00000000', '00000000', '00000000', '00000000', '00000000', '00000000', '00000000', '00000000', '00000000', '00000007', '00000000', '00000000', '00000000']\n",
      "['00000000', '00000000', '00000000', '00000000', '00000000', '00000000', '00000000', '00000000', '00000000', '00000000', '00000000', '00000000', '00000000', '00000000', '00000000', '00000000', '00000000', '00000000', '00000000', '00000000', '00000000', '00000000', '00000000', '00000000', '00000000', '00000000', '00000000', '00000000', '00000000', '00000000', '00000000', '00000000', '00000000', '00000000', '00000000', '00000000', '00000000', '00000000', '00000000', '00000000', '00000000', '00000000', '00000000', '00000000', '00000000', '00000000', '00000000', '00000000', '00000000', '00000000', '00000000', '00000000', '00000000', '00000000', '00000000', '00000000', '00000000', '00000003', '00000000', '00000003', '00000000', '00000000', '00000000', '00000000', '00000000', '00000000', '00000000', '00000000', '00000000', '00000000', '00000000', '00000000', '00000000', '00000000', '00000000', '00000000', '00000000', '00000000', '00000000', '00000000', '00000000', '00000000', '00000000', '00000000', '00000000', '00000000', '00000000', '00000000', '00000000', '00000000', '00000000', '00000000', '00000000', '00000000', '00000000', '00000000', '00000000', '00000000', '00000000', '00000000', '00000000', '00000000', '00000000', '00000000', '00000000', '00000000', '00000000', '00000000', '00000000', '00000000', '00000000', '00000000', '00000000', '00000000', '00000000', '00000000', '00000000', '00000000', '00000000', '00000000', '00000000', '00000000', '00000000', '00000000', '00000000', '00000000', '00000000', '00000000', '00000000', '00000000', '00000000', '00000000', '00000000', '00000000', '00000000', '00000000', '00000000', '00000000', '00000000', '00000000', '00000000', '00000000', '00000000', '00000000', '00000000', '00000000', '00000000', '00000000', '00000000', '00000000', '00000000', '00000000', '00000000', '00000000', '00000000', '00000000', '00000000', '00000000', '00000000', '00000000', '00000000', '00000000', '00000000', '00000000', '00000000', '00000000', '00000000', '00000000', '00000000']\n",
      "['00000000', '00000000', '00000000', '00000000', '00000000', '00000000', '00000000', '00000000', '00000000', '00000000', '00000000', '00000000', '00000000', '00000000', '00000000', '00000000', '00000000', '00000000', '00000000', '00000000', '00000000', '00000000', '00000000', '00000000', '00000000', '00000000', '00000000', '00000000', '00000000', '00000000', '00000000', '00000000', '00000000', '00000000', '00000000', '00000000', '00000000', '00000000', '00000000', '00000000', '00000000', '00000000', '00000000', '00000000', '00000000', '00000000', '00020000', '0A1D220F', '00000000', '00000000', '00000000', '00000000', '00001033', '4E4A4F4A', '4F4A4F31', '28150500', '00000000', '00000000', '00000000', '0F294347', '34211C2F', '42465750', '3F492708', '00000000', '00000000', '00000000', '00000000', '0000000D', '1B293848', '3C270000', '00000000', '00000000', '00000000', '00000000', '00000000', '01020000', '00001308', '0C000000', '00000000', '00000000', '00000000', '00000000', '00000000', '14070800', '00000000', '00000000', '00000000', '00000000', '00000000', '001C160E', '02000000', '00000000', '00000000', '00000000', '00000000', '00001625', '1B0C0000', '00000000', '00000000', '00000000', '00000000', '00000023', '40151000', '00000000', '00000000', '00000000', '00000000', '00000000', '37303515', '00000000', '00000000', '00000000', '00000000', '00000000', '13382E19', '05020000', '00000000', '00000000', '00000000', '00000000', '00142E29', '1E090000', '00000000', '00000000', '00000000', '00000000', '00000000', '00000000', '00000000', '00000000', '00000000', '00000000', '00000000', '00000000', '00000000', '00000000', '00000000', '00000000', '0000000E', '00000000', '00000000', '00000000', '00000000', '00000000', '0000000A', '1D3A4730', '23110000', '00001023', '310A1600', '00000000', '00000000', '00000B23', '394D5448', '47483E4E', '45445141', '40110000', '00000000', '00000000', '00000612', '1E2D4053', '5D4D321A', '0D150E0C', '00000000', '00000000', '00000000', '00000000', '00000000', '00000000', '00000000']\n",
      "['00000000', '00000000', '00000000', '00000000', '00000000', '00000000', '00000000', '00000000', '00000000', '00000000', '00000000', '00000000', '00000000', '00000000', '00000000', '00000000', '00000000', '00000000', '00000000', '00000000', '00000000', '00000000', '00000000', '00000000', '00000000', '00000000', '00000000', '00000000', '00000000', '00000000', '00000000', '00000000', '00000000', '00000000', '00000000', '00000000', '00000000', '00000000', '00000000', '00000000', '00000000', '00000000', '00000004', '08040000', '00000000', '00000900', '00000000', '00000000', '010B1F23', '191C1E1B', '0F000000', '00000000', '00080000', '00000002', '0D191C1C', '07000000', '0000070B', '00000000', '00000000', '00000000', '00182C0C', '02000000', '00000000', '00000000', '00000000', '00000000', '00000000', '00000000', '00000000', '00000000', '00000000', '00000000', '00000000', '00000000', '00000000', '02000000', '00000000', '00000000', '00000000', '00000000', '00000000', '02200000', '00000000', '00000000', '00000000', '00000000', '00000000', '00091A00', '00000000', '00000000', '00000000', '00000000', '00000000', '0000091E', '00000000', '00000000', '00000000', '00000000', '00000000', '00000009', '1F050000', '00000000', '00000000', '00000000', '00000000', '00000000', '091E0300', '00000000', '00000000', '00000000', '00000000', '00000000', '00031406', '00000000', '00000000', '00000000', '00000000', '00000000', '0000021B', '13000000', '00000000', '00000000', '00000000', '00000000', '00000000', '05050000', '00000000', '00000000', '00000000', '00000000', '00000000', '00000000', '00000000', '00000000', '00000000', '00000000', '00000000', '00000000', '00000000', '00000000', '00000000', '00000000', '00000000', '00000000', '00000000', '00000000', '00000000', '00000000', '00000000', '00000000', '00000000', '00000000', '00000000', '00000000', '00000000', '00000000', '00000000', '00000000', '00000000', '00000000', '00000000', '00000000', '00000000', '00000000', '00000000', '00000000', '00000000', '00000000', '00000000']\n",
      "['00000000', '00000000', '00000000', '00000000', '00000000', '00000000', '00000000', '00000000', '00000000', '00000000', '00000000', '00000000', '00000000', '00000000', '00000000', '00000000', '00000000', '00000000', '00000000', '00000000', '00000000', '00000000', '00000000', '00000000', '00000000', '00000000', '00000000', '00000000', '00000000', '00000000', '00000000', '00000000', '00000000', '00000000', '00000000', '00000000', '00000000', '00000000', '00000000', '00000000', '00000000', '00000000', '00000000', '00000000', '00000000', '00000000', '00000000', '00000000', '00000000', '00000000', '00000000', '00000000', '00000000', '00000300', '00000000', '00000000', '1D060000', '00000000', '00000000', '000D0900', '00000000', '00000000', '00002417', '00000000', '00000000', '00000000', '100A0000', '00000000', '00000005', '260B0000', '00000000', '00000000', '00000000', '00000000', '00000000', '00000000', '00000000', '00000000', '00000000', '00000000', '00000000', '00000000', '00000000', '00000000', '00000000', '00000000', '00000000', '00000000', '00000000', '00000000', '00000000', '00000000', '00000000', '00000000', '00000000', '00000000', '0F000000', '00000000', '00000000', '00000000', '00000000', '00000300', '00000001', '00000000', '00000000', '00000000', '00000000', '0000001A', '03000000', '00170200', '00000000', '00000000', '00000000', '00000000', '00000000', '00000003', '1C000000', '00000000', '00000000', '00000000', '00000000', '00000000', '00133200', '00000000', '00000000', '00000000', '00000000', '00000000', '00000018', '2B000000', '00000000', '00000000', '00000000', '00000000', '00000000', '1C260C00', '00000000', '00000000', '00000000', '00000000', '00000000', '00081613', '00000000', '00000000', '00000000', '00000000', '00000000', '00000007', '0A000000', '00000000', '00000000', '00000000', '00000000', '00000000', '00000000', '00000000', '00000000', '00000000', '00000000', '00000000', '00000000', '00000000', '00000000', '00000000', '00000000', '00000000', '00000000', '00000000', '00000000']\n",
      "['00000000', '00000000', '00000000', '00000000', '00000000', '00000000', '00000000', '00000000', '00000000', '00000000', '00000000', '00000000', '00000000', '00000000', '00000000', '00000000', '00000000', '00000000', '00000000', '00000000', '00000000', '00000000', '0005182E', '494C4432', '1E100200', '00000000', '00000000', '00000000', '0000000C', '18211411', '192B3D38', '270C0000', '00000000', '00000000', '00000000', '00101913', '17000000', '000F0E0B', '00000000', '00000000', '00000000', '00000011', '0E0D0400', '00000000', '21200E02', '00000000', '00000000', '00000000', '001C031A', '15181925', '30211F3F', '26130000', '00000000', '00000000', '0000001C', '031C1126', '222B4113', '0B090000', '00000000', '00000000', '00000000', '001C0318', '20503D30', '180B0800', '000A0000', '00000000', '00000000', '0000001C', '031A0918', '1E030000', '0000080B', '00000000', '00000000', '00000000', '0421081D', '1F1F0C00', '00000D0F', '0C000000', '00000000', '00000000', '0008203E', '1D1D1400', '00000015', '03000000', '00000000', '00000000', '0004142B', '2E33090C', '00000010', '0A020000', '00000000', '00000000', '0000061E', '2D2F230B', '1C191109', '10050000', '00000000', '00000000', '00000006', '1C232516', '0615150D', '120D0000', '00000000', '00000000', '00000000', '00141D2D', '03000000', '17081708', '00000000', '00000000', '00000000', '00000B16', '20000000', '00291C08', '17080000', '00000000', '00000000', '00000004', '142E1418', '140F2724', '15021105', '00000000', '00000000', '00000000', '00021019', '00001315', '281B0A00', '08030000', '00000000', '00000000', '0000000C', '2011232B', '533C4507', '03000605', '00000000', '00000000', '00000000', '00000C00', '0D1B2219', '16010200', '11000000', '00000000', '00000000', '00000009', '00000315', '22110000', '000D0100', '00000000', '00000000', '00000000', '00051200', '00000000', '00000D09', '00000000', '00000000', '00000000', '00000000', '0517081C', '1F16110E', '08000000', '00000000', '00000000', '00000000', '00000000', '00000000', '00000000', '00000000', '00000000', '00000000']\n"
     ]
    }
   ],
   "source": [
    "#print(x_train[print_index] - x_train[print_index] % (2 ** -5))\n",
    "plt.imshow(np.reshape(x_train[print_index], (28, 28)), cmap='gray')\n",
    "plt.title('%i' % y_train[print_index])  \n",
    "plt.show()\n",
    "print('layer_0')\n",
    "for num_kernel in range(0, 32):\n",
    "  Golden(np.reshape(x_train[num_kernel] - x_train[num_kernel] % (2 ** -5), (28, 28)), kernel_array, num_kernel)"
   ]
  },
  {
   "cell_type": "code",
   "execution_count": null,
   "metadata": {
    "id": "UyELocVEvIqd"
   },
   "outputs": [],
   "source": [
    "plt.imshow(np.reshape(x_train[print_index], (28, 28)), cmap='gray')\n",
    "plt.title('%i' % y_train[print_index])  \n",
    "plt.show()\n",
    "for num_layer in range(0, 2):\n",
    "  print('layer_' + str(num_layer))\n",
    "  for num_kernel in range(0, 32):\n",
    "    Golden(np.reshape(x_train[num_kernel] - x_train[num_kernel] % (2 ** -5), (28, 28)), kernel_array, num_kernel, num_layer)"
   ]
  }
 ],
 "metadata": {
  "colab": {
   "collapsed_sections": [],
   "name": "BNN_0308.ipynb",
   "provenance": []
  },
  "kernelspec": {
   "display_name": "Python 3 (ipykernel)",
   "language": "python",
   "name": "python3"
  },
  "language_info": {
   "codemirror_mode": {
    "name": "ipython",
    "version": 3
   },
   "file_extension": ".py",
   "mimetype": "text/x-python",
   "name": "python",
   "nbconvert_exporter": "python",
   "pygments_lexer": "ipython3",
   "version": "3.8.10"
  }
 },
 "nbformat": 4,
 "nbformat_minor": 1
}
