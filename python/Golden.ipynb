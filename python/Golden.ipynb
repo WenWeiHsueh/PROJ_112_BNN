{
  "cells": [
    {
      "cell_type": "code",
      "execution_count": 2,
      "metadata": {
        "colab": {
          "base_uri": "https://localhost:8080/"
        },
        "id": "hh0Inqmad5Y-",
        "outputId": "1eda02f9-cc2d-4d98-f68d-6e53ceb9e1b5"
      },
      "outputs": [
        {
          "name": "stdout",
          "output_type": "stream",
          "text": [
            "Downloading data from https://storage.googleapis.com/tensorflow/tf-keras-datasets/mnist.npz\n",
            "11493376/11490434 [==============================] - 1s 0us/step\n",
            "11501568/11490434 [==============================] - 1s 0us/step\n",
            "60000 train samples\n",
            "10000 test samples\n"
          ]
        }
      ],
      "source": [
        "'''Trains a simple binarize CNN on the MNIST dataset.\n",
        "Modified from keras' examples/mnist_mlp.py\n",
        "Gets to 98.98% test accuracy after 20 epochs using tensorflow backend\n",
        "'''\n",
        "\n",
        "from __future__ import print_function\n",
        "import numpy as np\n",
        "np.random.seed(1337)  # for reproducibility\n",
        "\n",
        "import keras.backend as K\n",
        "from keras.datasets import mnist\n",
        "from keras.models import Sequential\n",
        "from keras.layers import Dense, Dropout, Activation, BatchNormalization, MaxPooling2D\n",
        "from keras.layers import Flatten\n",
        "from tensorflow.keras.optimizers import SGD, Adam, RMSprop\n",
        "from keras.callbacks import LearningRateScheduler\n",
        "from keras.utils import np_utils\n",
        "from keras import callbacks\n",
        "from binary_ops import binary_tanh as binary_tanh_op\n",
        "from binary_layers import BinaryDense, BinaryConv2D\n",
        "from binary_ops import binarize\n",
        "from keras import callbacks\n",
        "def binary_tanh(x):\n",
        "    return binary_tanh_op(x)\n",
        "\n",
        "\n",
        "H = 1.\n",
        "kernel_lr_multiplier = 'Glorot'\n",
        "\n",
        "# nn\n",
        "batch_size = 50\n",
        "epochs = 20 \n",
        "channels = 1\n",
        "img_rows = 28 \n",
        "img_cols = 28 \n",
        "filters = 32 \n",
        "kernel_size = (3, 3)\n",
        "pool_size = (2, 2)\n",
        "hidden_units = 128\n",
        "classes = 10\n",
        "use_bias = False\n",
        "#############################基本設定#############################\n",
        "# learning rate schedule\n",
        "lr_start = 1e-3\n",
        "lr_end = 1e-4\n",
        "lr_decay = (lr_end / lr_start)**(1. / epochs)\n",
        "\n",
        "# BN\n",
        "epsilon = 1e-6\n",
        "momentum = 0.9\n",
        "\n",
        "# dropout\n",
        "p1 = 0.25\n",
        "p2 = 0.5\n",
        "\n",
        "# the data, shuffled and split between train and test sets\n",
        "(X_train, y_train), (X_test, y_test) = mnist.load_data()\n",
        "\n",
        "X_train = X_train.reshape(60000, 1, 28, 28) ####調整資料大小\n",
        "X_test = X_test.reshape(10000, 1, 28, 28)   ##調整資料大小\n",
        "X_train = X_train.astype('float32')\n",
        "X_test = X_test.astype('float32')\n",
        "X_train /= 255    ##正規化\n",
        "X_test /= 255     ##正規化\n",
        "print(X_train.shape[0], 'train samples')\n",
        "print(X_test.shape[0], 'test samples')\n",
        "\n",
        "# convert class vectors to binary class matrices\n",
        "Y_train = np_utils.to_categorical(y_train, classes) * 2 - 1 # -1 or 1 for hinge loss\n",
        "Y_test = np_utils.to_categorical(y_test, classes) * 2 - 1"
      ]
    },
    {
      "cell_type": "code",
      "execution_count": 3,
      "metadata": {
        "id": "vOKdLENTgza-"
      },
      "outputs": [],
      "source": [
        "model = Sequential()\n",
        "# conv1\n",
        "model.add(BinaryConv2D(32, kernel_size=kernel_size, input_shape=(channels, img_rows, img_cols),\n",
        "                       data_format='channels_first',\n",
        "                       H=H, kernel_lr_multiplier=kernel_lr_multiplier, \n",
        "                       padding='same', use_bias=use_bias, name='conv1'))\n",
        "model.add(BinaryConv2D(32, kernel_size=kernel_size, H=H, kernel_lr_multiplier=kernel_lr_multiplier,                         data_format='channels_first',\n",
        "                        padding='same', use_bias=use_bias, name='conv2'))\n",
        "model.add(BinaryConv2D(32, kernel_size=kernel_size, H=H, kernel_lr_multiplier=kernel_lr_multiplier,\n",
        "                        data_format='channels_first',\n",
        "                        padding='same', use_bias=use_bias, name='conv3'))\n",
        "model.add(MaxPooling2D(pool_size=pool_size, name='pool2', data_format='channels_last'))\n",
        "model.add(BatchNormalization(epsilon=epsilon, momentum=momentum, axis=1, name='bn2'))\n",
        "model.add(Activation(binary_tanh, name='act2'))\n",
        "#model.add(BatchNormalization(epsilon=epsilon, momentum=momentum, axis=1, name='bn1'))\n",
        "model.add(Activation(binary_tanh, name='act1'))\n",
        "model.add(Flatten())\n",
        "model.add(Dense(32, activation='relu'))\n",
        "model.add(BatchNormalization(epsilon=epsilon, momentum=momentum, name='bn5'))\n",
        "model.add(Dense(10, activation='softmax'))\n",
        "opt = Adam(lr=lr_start) \n",
        "model.compile(loss='squared_hinge', optimizer=opt, metrics=['accuracy'])\n",
        "model.summary()\n",
        "lr_scheduler = LearningRateScheduler(lambda e: lr_start * lr_decay ** e)"
      ]
    },
    {
      "cell_type": "code",
      "execution_count": 4,
      "metadata": {
        "id": "G1m983Ljg1u4"
      },
      "outputs": [
        {
          "name": "stderr",
          "output_type": "stream",
          "text": [
            "C:\\Users\\frian\\anaconda3\\envs\\bnn\\lib\\site-packages\\keras\\optimizer_v2\\optimizer_v2.py:355: UserWarning: The `lr` argument is deprecated, use `learning_rate` instead.\n",
            "  warnings.warn(\n"
          ]
        },
        {
          "name": "stdout",
          "output_type": "stream",
          "text": [
            "Model: \"sequential\"\n",
            "_________________________________________________________________\n",
            "Layer (type)                 Output Shape              Param #   \n",
            "=================================================================\n",
            "conv1 (BinaryConv2D)         (None, 32, 28, 28)        288       \n",
            "_________________________________________________________________\n",
            "conv2 (BinaryConv2D)         (None, 32, 28, 28)        9216      \n",
            "_________________________________________________________________\n",
            "conv3 (BinaryConv2D)         (None, 32, 28, 28)        9216      \n",
            "_________________________________________________________________\n",
            "pool2 (MaxPooling2D)         (None, 16, 14, 28)        0         \n",
            "_________________________________________________________________\n",
            "bn2 (BatchNormalization)     (None, 16, 14, 28)        64        \n",
            "_________________________________________________________________\n",
            "act2 (Activation)            (None, 16, 14, 28)        0         \n",
            "_________________________________________________________________\n",
            "act1 (Activation)            (None, 16, 14, 28)        0         \n",
            "_________________________________________________________________\n",
            "flatten (Flatten)            (None, 6272)              0         \n",
            "_________________________________________________________________\n",
            "dense (Dense)                (None, 32)                200736    \n",
            "_________________________________________________________________\n",
            "bn5 (BatchNormalization)     (None, 32)                128       \n",
            "_________________________________________________________________\n",
            "dense_1 (Dense)              (None, 10)                330       \n",
            "=================================================================\n",
            "Total params: 219,978\n",
            "Trainable params: 219,882\n",
            "Non-trainable params: 96\n",
            "_________________________________________________________________\n",
            " 409/1200 [=========>....................] - ETA: 1:26 - loss: 0.9494 - accuracy: 0.9144"
          ]
        },
        {
          "ename": "KeyboardInterrupt",
          "evalue": "",
          "output_type": "error",
          "traceback": [
            "\u001b[1;31m---------------------------------------------------------------------------\u001b[0m",
            "\u001b[1;31mKeyboardInterrupt\u001b[0m                         Traceback (most recent call last)",
            "\u001b[1;32mc:\\PROJ\\PROJ_112_BNN\\python\\Golden.ipynb Cell 3'\u001b[0m in \u001b[0;36m<cell line: 9>\u001b[1;34m()\u001b[0m\n\u001b[0;32m      <a href='vscode-notebook-cell:/c%3A/PROJ/PROJ_112_BNN/python/Golden.ipynb#ch0000002?line=6'>7</a>\u001b[0m model\u001b[39m.\u001b[39msummary()\n\u001b[0;32m      <a href='vscode-notebook-cell:/c%3A/PROJ/PROJ_112_BNN/python/Golden.ipynb#ch0000002?line=7'>8</a>\u001b[0m lr_scheduler \u001b[39m=\u001b[39m LearningRateScheduler(\u001b[39mlambda\u001b[39;00m e: lr_start \u001b[39m*\u001b[39m lr_decay \u001b[39m*\u001b[39m\u001b[39m*\u001b[39m e)\n\u001b[1;32m----> <a href='vscode-notebook-cell:/c%3A/PROJ/PROJ_112_BNN/python/Golden.ipynb#ch0000002?line=8'>9</a>\u001b[0m history \u001b[39m=\u001b[39m model\u001b[39m.\u001b[39;49mfit(X_train, Y_train,\n\u001b[0;32m     <a href='vscode-notebook-cell:/c%3A/PROJ/PROJ_112_BNN/python/Golden.ipynb#ch0000002?line=9'>10</a>\u001b[0m                     batch_size\u001b[39m=\u001b[39;49m\u001b[39m50\u001b[39;49m, epochs\u001b[39m=\u001b[39;49m\u001b[39m1\u001b[39;49m,\n\u001b[0;32m     <a href='vscode-notebook-cell:/c%3A/PROJ/PROJ_112_BNN/python/Golden.ipynb#ch0000002?line=10'>11</a>\u001b[0m                     verbose\u001b[39m=\u001b[39;49m\u001b[39m1\u001b[39;49m, validation_data\u001b[39m=\u001b[39;49m(X_test, Y_test))\n\u001b[0;32m     <a href='vscode-notebook-cell:/c%3A/PROJ/PROJ_112_BNN/python/Golden.ipynb#ch0000002?line=11'>12</a>\u001b[0m score \u001b[39m=\u001b[39m model\u001b[39m.\u001b[39mevaluate(X_test, Y_test, verbose\u001b[39m=\u001b[39m\u001b[39m0\u001b[39m)\n\u001b[0;32m     <a href='vscode-notebook-cell:/c%3A/PROJ/PROJ_112_BNN/python/Golden.ipynb#ch0000002?line=12'>13</a>\u001b[0m \u001b[39mprint\u001b[39m(\u001b[39m'\u001b[39m\u001b[39mTest score:\u001b[39m\u001b[39m'\u001b[39m, score[\u001b[39m0\u001b[39m])\n",
            "File \u001b[1;32m~\\anaconda3\\envs\\bnn\\lib\\site-packages\\keras\\engine\\training.py:1184\u001b[0m, in \u001b[0;36mModel.fit\u001b[1;34m(self, x, y, batch_size, epochs, verbose, callbacks, validation_split, validation_data, shuffle, class_weight, sample_weight, initial_epoch, steps_per_epoch, validation_steps, validation_batch_size, validation_freq, max_queue_size, workers, use_multiprocessing)\u001b[0m\n\u001b[0;32m   <a href='file:///c%3A/Users/frian/anaconda3/envs/bnn/lib/site-packages/keras/engine/training.py?line=1176'>1177</a>\u001b[0m \u001b[39mwith\u001b[39;00m tf\u001b[39m.\u001b[39mprofiler\u001b[39m.\u001b[39mexperimental\u001b[39m.\u001b[39mTrace(\n\u001b[0;32m   <a href='file:///c%3A/Users/frian/anaconda3/envs/bnn/lib/site-packages/keras/engine/training.py?line=1177'>1178</a>\u001b[0m     \u001b[39m'\u001b[39m\u001b[39mtrain\u001b[39m\u001b[39m'\u001b[39m,\n\u001b[0;32m   <a href='file:///c%3A/Users/frian/anaconda3/envs/bnn/lib/site-packages/keras/engine/training.py?line=1178'>1179</a>\u001b[0m     epoch_num\u001b[39m=\u001b[39mepoch,\n\u001b[0;32m   <a href='file:///c%3A/Users/frian/anaconda3/envs/bnn/lib/site-packages/keras/engine/training.py?line=1179'>1180</a>\u001b[0m     step_num\u001b[39m=\u001b[39mstep,\n\u001b[0;32m   <a href='file:///c%3A/Users/frian/anaconda3/envs/bnn/lib/site-packages/keras/engine/training.py?line=1180'>1181</a>\u001b[0m     batch_size\u001b[39m=\u001b[39mbatch_size,\n\u001b[0;32m   <a href='file:///c%3A/Users/frian/anaconda3/envs/bnn/lib/site-packages/keras/engine/training.py?line=1181'>1182</a>\u001b[0m     _r\u001b[39m=\u001b[39m\u001b[39m1\u001b[39m):\n\u001b[0;32m   <a href='file:///c%3A/Users/frian/anaconda3/envs/bnn/lib/site-packages/keras/engine/training.py?line=1182'>1183</a>\u001b[0m   callbacks\u001b[39m.\u001b[39mon_train_batch_begin(step)\n\u001b[1;32m-> <a href='file:///c%3A/Users/frian/anaconda3/envs/bnn/lib/site-packages/keras/engine/training.py?line=1183'>1184</a>\u001b[0m   tmp_logs \u001b[39m=\u001b[39m \u001b[39mself\u001b[39;49m\u001b[39m.\u001b[39;49mtrain_function(iterator)\n\u001b[0;32m   <a href='file:///c%3A/Users/frian/anaconda3/envs/bnn/lib/site-packages/keras/engine/training.py?line=1184'>1185</a>\u001b[0m   \u001b[39mif\u001b[39;00m data_handler\u001b[39m.\u001b[39mshould_sync:\n\u001b[0;32m   <a href='file:///c%3A/Users/frian/anaconda3/envs/bnn/lib/site-packages/keras/engine/training.py?line=1185'>1186</a>\u001b[0m     context\u001b[39m.\u001b[39masync_wait()\n",
            "File \u001b[1;32m~\\anaconda3\\envs\\bnn\\lib\\site-packages\\tensorflow\\python\\eager\\def_function.py:885\u001b[0m, in \u001b[0;36mFunction.__call__\u001b[1;34m(self, *args, **kwds)\u001b[0m\n\u001b[0;32m    <a href='file:///c%3A/Users/frian/anaconda3/envs/bnn/lib/site-packages/tensorflow/python/eager/def_function.py?line=881'>882</a>\u001b[0m compiler \u001b[39m=\u001b[39m \u001b[39m\"\u001b[39m\u001b[39mxla\u001b[39m\u001b[39m\"\u001b[39m \u001b[39mif\u001b[39;00m \u001b[39mself\u001b[39m\u001b[39m.\u001b[39m_jit_compile \u001b[39melse\u001b[39;00m \u001b[39m\"\u001b[39m\u001b[39mnonXla\u001b[39m\u001b[39m\"\u001b[39m\n\u001b[0;32m    <a href='file:///c%3A/Users/frian/anaconda3/envs/bnn/lib/site-packages/tensorflow/python/eager/def_function.py?line=883'>884</a>\u001b[0m \u001b[39mwith\u001b[39;00m OptionalXlaContext(\u001b[39mself\u001b[39m\u001b[39m.\u001b[39m_jit_compile):\n\u001b[1;32m--> <a href='file:///c%3A/Users/frian/anaconda3/envs/bnn/lib/site-packages/tensorflow/python/eager/def_function.py?line=884'>885</a>\u001b[0m   result \u001b[39m=\u001b[39m \u001b[39mself\u001b[39m\u001b[39m.\u001b[39m_call(\u001b[39m*\u001b[39margs, \u001b[39m*\u001b[39m\u001b[39m*\u001b[39mkwds)\n\u001b[0;32m    <a href='file:///c%3A/Users/frian/anaconda3/envs/bnn/lib/site-packages/tensorflow/python/eager/def_function.py?line=886'>887</a>\u001b[0m new_tracing_count \u001b[39m=\u001b[39m \u001b[39mself\u001b[39m\u001b[39m.\u001b[39mexperimental_get_tracing_count()\n\u001b[0;32m    <a href='file:///c%3A/Users/frian/anaconda3/envs/bnn/lib/site-packages/tensorflow/python/eager/def_function.py?line=887'>888</a>\u001b[0m without_tracing \u001b[39m=\u001b[39m (tracing_count \u001b[39m==\u001b[39m new_tracing_count)\n",
            "File \u001b[1;32m~\\anaconda3\\envs\\bnn\\lib\\site-packages\\tensorflow\\python\\eager\\def_function.py:917\u001b[0m, in \u001b[0;36mFunction._call\u001b[1;34m(self, *args, **kwds)\u001b[0m\n\u001b[0;32m    <a href='file:///c%3A/Users/frian/anaconda3/envs/bnn/lib/site-packages/tensorflow/python/eager/def_function.py?line=913'>914</a>\u001b[0m   \u001b[39mself\u001b[39m\u001b[39m.\u001b[39m_lock\u001b[39m.\u001b[39mrelease()\n\u001b[0;32m    <a href='file:///c%3A/Users/frian/anaconda3/envs/bnn/lib/site-packages/tensorflow/python/eager/def_function.py?line=914'>915</a>\u001b[0m   \u001b[39m# In this case we have created variables on the first call, so we run the\u001b[39;00m\n\u001b[0;32m    <a href='file:///c%3A/Users/frian/anaconda3/envs/bnn/lib/site-packages/tensorflow/python/eager/def_function.py?line=915'>916</a>\u001b[0m   \u001b[39m# defunned version which is guaranteed to never create variables.\u001b[39;00m\n\u001b[1;32m--> <a href='file:///c%3A/Users/frian/anaconda3/envs/bnn/lib/site-packages/tensorflow/python/eager/def_function.py?line=916'>917</a>\u001b[0m   \u001b[39mreturn\u001b[39;00m \u001b[39mself\u001b[39m\u001b[39m.\u001b[39m_stateless_fn(\u001b[39m*\u001b[39margs, \u001b[39m*\u001b[39m\u001b[39m*\u001b[39mkwds)  \u001b[39m# pylint: disable=not-callable\u001b[39;00m\n\u001b[0;32m    <a href='file:///c%3A/Users/frian/anaconda3/envs/bnn/lib/site-packages/tensorflow/python/eager/def_function.py?line=917'>918</a>\u001b[0m \u001b[39melif\u001b[39;00m \u001b[39mself\u001b[39m\u001b[39m.\u001b[39m_stateful_fn \u001b[39mis\u001b[39;00m \u001b[39mnot\u001b[39;00m \u001b[39mNone\u001b[39;00m:\n\u001b[0;32m    <a href='file:///c%3A/Users/frian/anaconda3/envs/bnn/lib/site-packages/tensorflow/python/eager/def_function.py?line=918'>919</a>\u001b[0m   \u001b[39m# Release the lock early so that multiple threads can perform the call\u001b[39;00m\n\u001b[0;32m    <a href='file:///c%3A/Users/frian/anaconda3/envs/bnn/lib/site-packages/tensorflow/python/eager/def_function.py?line=919'>920</a>\u001b[0m   \u001b[39m# in parallel.\u001b[39;00m\n\u001b[0;32m    <a href='file:///c%3A/Users/frian/anaconda3/envs/bnn/lib/site-packages/tensorflow/python/eager/def_function.py?line=920'>921</a>\u001b[0m   \u001b[39mself\u001b[39m\u001b[39m.\u001b[39m_lock\u001b[39m.\u001b[39mrelease()\n",
            "File \u001b[1;32m~\\anaconda3\\envs\\bnn\\lib\\site-packages\\tensorflow\\python\\eager\\function.py:3039\u001b[0m, in \u001b[0;36mFunction.__call__\u001b[1;34m(self, *args, **kwargs)\u001b[0m\n\u001b[0;32m   <a href='file:///c%3A/Users/frian/anaconda3/envs/bnn/lib/site-packages/tensorflow/python/eager/function.py?line=3035'>3036</a>\u001b[0m \u001b[39mwith\u001b[39;00m \u001b[39mself\u001b[39m\u001b[39m.\u001b[39m_lock:\n\u001b[0;32m   <a href='file:///c%3A/Users/frian/anaconda3/envs/bnn/lib/site-packages/tensorflow/python/eager/function.py?line=3036'>3037</a>\u001b[0m   (graph_function,\n\u001b[0;32m   <a href='file:///c%3A/Users/frian/anaconda3/envs/bnn/lib/site-packages/tensorflow/python/eager/function.py?line=3037'>3038</a>\u001b[0m    filtered_flat_args) \u001b[39m=\u001b[39m \u001b[39mself\u001b[39m\u001b[39m.\u001b[39m_maybe_define_function(args, kwargs)\n\u001b[1;32m-> <a href='file:///c%3A/Users/frian/anaconda3/envs/bnn/lib/site-packages/tensorflow/python/eager/function.py?line=3038'>3039</a>\u001b[0m \u001b[39mreturn\u001b[39;00m graph_function\u001b[39m.\u001b[39;49m_call_flat(\n\u001b[0;32m   <a href='file:///c%3A/Users/frian/anaconda3/envs/bnn/lib/site-packages/tensorflow/python/eager/function.py?line=3039'>3040</a>\u001b[0m     filtered_flat_args, captured_inputs\u001b[39m=\u001b[39;49mgraph_function\u001b[39m.\u001b[39;49mcaptured_inputs)\n",
            "File \u001b[1;32m~\\anaconda3\\envs\\bnn\\lib\\site-packages\\tensorflow\\python\\eager\\function.py:1963\u001b[0m, in \u001b[0;36mConcreteFunction._call_flat\u001b[1;34m(self, args, captured_inputs, cancellation_manager)\u001b[0m\n\u001b[0;32m   <a href='file:///c%3A/Users/frian/anaconda3/envs/bnn/lib/site-packages/tensorflow/python/eager/function.py?line=1958'>1959</a>\u001b[0m possible_gradient_type \u001b[39m=\u001b[39m gradients_util\u001b[39m.\u001b[39mPossibleTapeGradientTypes(args)\n\u001b[0;32m   <a href='file:///c%3A/Users/frian/anaconda3/envs/bnn/lib/site-packages/tensorflow/python/eager/function.py?line=1959'>1960</a>\u001b[0m \u001b[39mif\u001b[39;00m (possible_gradient_type \u001b[39m==\u001b[39m gradients_util\u001b[39m.\u001b[39mPOSSIBLE_GRADIENT_TYPES_NONE\n\u001b[0;32m   <a href='file:///c%3A/Users/frian/anaconda3/envs/bnn/lib/site-packages/tensorflow/python/eager/function.py?line=1960'>1961</a>\u001b[0m     \u001b[39mand\u001b[39;00m executing_eagerly):\n\u001b[0;32m   <a href='file:///c%3A/Users/frian/anaconda3/envs/bnn/lib/site-packages/tensorflow/python/eager/function.py?line=1961'>1962</a>\u001b[0m   \u001b[39m# No tape is watching; skip to running the function.\u001b[39;00m\n\u001b[1;32m-> <a href='file:///c%3A/Users/frian/anaconda3/envs/bnn/lib/site-packages/tensorflow/python/eager/function.py?line=1962'>1963</a>\u001b[0m   \u001b[39mreturn\u001b[39;00m \u001b[39mself\u001b[39m\u001b[39m.\u001b[39m_build_call_outputs(\u001b[39mself\u001b[39;49m\u001b[39m.\u001b[39;49m_inference_function\u001b[39m.\u001b[39;49mcall(\n\u001b[0;32m   <a href='file:///c%3A/Users/frian/anaconda3/envs/bnn/lib/site-packages/tensorflow/python/eager/function.py?line=1963'>1964</a>\u001b[0m       ctx, args, cancellation_manager\u001b[39m=\u001b[39;49mcancellation_manager))\n\u001b[0;32m   <a href='file:///c%3A/Users/frian/anaconda3/envs/bnn/lib/site-packages/tensorflow/python/eager/function.py?line=1964'>1965</a>\u001b[0m forward_backward \u001b[39m=\u001b[39m \u001b[39mself\u001b[39m\u001b[39m.\u001b[39m_select_forward_and_backward_functions(\n\u001b[0;32m   <a href='file:///c%3A/Users/frian/anaconda3/envs/bnn/lib/site-packages/tensorflow/python/eager/function.py?line=1965'>1966</a>\u001b[0m     args,\n\u001b[0;32m   <a href='file:///c%3A/Users/frian/anaconda3/envs/bnn/lib/site-packages/tensorflow/python/eager/function.py?line=1966'>1967</a>\u001b[0m     possible_gradient_type,\n\u001b[0;32m   <a href='file:///c%3A/Users/frian/anaconda3/envs/bnn/lib/site-packages/tensorflow/python/eager/function.py?line=1967'>1968</a>\u001b[0m     executing_eagerly)\n\u001b[0;32m   <a href='file:///c%3A/Users/frian/anaconda3/envs/bnn/lib/site-packages/tensorflow/python/eager/function.py?line=1968'>1969</a>\u001b[0m forward_function, args_with_tangents \u001b[39m=\u001b[39m forward_backward\u001b[39m.\u001b[39mforward()\n",
            "File \u001b[1;32m~\\anaconda3\\envs\\bnn\\lib\\site-packages\\tensorflow\\python\\eager\\function.py:591\u001b[0m, in \u001b[0;36m_EagerDefinedFunction.call\u001b[1;34m(self, ctx, args, cancellation_manager)\u001b[0m\n\u001b[0;32m    <a href='file:///c%3A/Users/frian/anaconda3/envs/bnn/lib/site-packages/tensorflow/python/eager/function.py?line=588'>589</a>\u001b[0m \u001b[39mwith\u001b[39;00m _InterpolateFunctionError(\u001b[39mself\u001b[39m):\n\u001b[0;32m    <a href='file:///c%3A/Users/frian/anaconda3/envs/bnn/lib/site-packages/tensorflow/python/eager/function.py?line=589'>590</a>\u001b[0m   \u001b[39mif\u001b[39;00m cancellation_manager \u001b[39mis\u001b[39;00m \u001b[39mNone\u001b[39;00m:\n\u001b[1;32m--> <a href='file:///c%3A/Users/frian/anaconda3/envs/bnn/lib/site-packages/tensorflow/python/eager/function.py?line=590'>591</a>\u001b[0m     outputs \u001b[39m=\u001b[39m execute\u001b[39m.\u001b[39;49mexecute(\n\u001b[0;32m    <a href='file:///c%3A/Users/frian/anaconda3/envs/bnn/lib/site-packages/tensorflow/python/eager/function.py?line=591'>592</a>\u001b[0m         \u001b[39mstr\u001b[39;49m(\u001b[39mself\u001b[39;49m\u001b[39m.\u001b[39;49msignature\u001b[39m.\u001b[39;49mname),\n\u001b[0;32m    <a href='file:///c%3A/Users/frian/anaconda3/envs/bnn/lib/site-packages/tensorflow/python/eager/function.py?line=592'>593</a>\u001b[0m         num_outputs\u001b[39m=\u001b[39;49m\u001b[39mself\u001b[39;49m\u001b[39m.\u001b[39;49m_num_outputs,\n\u001b[0;32m    <a href='file:///c%3A/Users/frian/anaconda3/envs/bnn/lib/site-packages/tensorflow/python/eager/function.py?line=593'>594</a>\u001b[0m         inputs\u001b[39m=\u001b[39;49margs,\n\u001b[0;32m    <a href='file:///c%3A/Users/frian/anaconda3/envs/bnn/lib/site-packages/tensorflow/python/eager/function.py?line=594'>595</a>\u001b[0m         attrs\u001b[39m=\u001b[39;49mattrs,\n\u001b[0;32m    <a href='file:///c%3A/Users/frian/anaconda3/envs/bnn/lib/site-packages/tensorflow/python/eager/function.py?line=595'>596</a>\u001b[0m         ctx\u001b[39m=\u001b[39;49mctx)\n\u001b[0;32m    <a href='file:///c%3A/Users/frian/anaconda3/envs/bnn/lib/site-packages/tensorflow/python/eager/function.py?line=596'>597</a>\u001b[0m   \u001b[39melse\u001b[39;00m:\n\u001b[0;32m    <a href='file:///c%3A/Users/frian/anaconda3/envs/bnn/lib/site-packages/tensorflow/python/eager/function.py?line=597'>598</a>\u001b[0m     outputs \u001b[39m=\u001b[39m execute\u001b[39m.\u001b[39mexecute_with_cancellation(\n\u001b[0;32m    <a href='file:///c%3A/Users/frian/anaconda3/envs/bnn/lib/site-packages/tensorflow/python/eager/function.py?line=598'>599</a>\u001b[0m         \u001b[39mstr\u001b[39m(\u001b[39mself\u001b[39m\u001b[39m.\u001b[39msignature\u001b[39m.\u001b[39mname),\n\u001b[0;32m    <a href='file:///c%3A/Users/frian/anaconda3/envs/bnn/lib/site-packages/tensorflow/python/eager/function.py?line=599'>600</a>\u001b[0m         num_outputs\u001b[39m=\u001b[39m\u001b[39mself\u001b[39m\u001b[39m.\u001b[39m_num_outputs,\n\u001b[1;32m   (...)\u001b[0m\n\u001b[0;32m    <a href='file:///c%3A/Users/frian/anaconda3/envs/bnn/lib/site-packages/tensorflow/python/eager/function.py?line=602'>603</a>\u001b[0m         ctx\u001b[39m=\u001b[39mctx,\n\u001b[0;32m    <a href='file:///c%3A/Users/frian/anaconda3/envs/bnn/lib/site-packages/tensorflow/python/eager/function.py?line=603'>604</a>\u001b[0m         cancellation_manager\u001b[39m=\u001b[39mcancellation_manager)\n",
            "File \u001b[1;32m~\\anaconda3\\envs\\bnn\\lib\\site-packages\\tensorflow\\python\\eager\\execute.py:59\u001b[0m, in \u001b[0;36mquick_execute\u001b[1;34m(op_name, num_outputs, inputs, attrs, ctx, name)\u001b[0m\n\u001b[0;32m     <a href='file:///c%3A/Users/frian/anaconda3/envs/bnn/lib/site-packages/tensorflow/python/eager/execute.py?line=56'>57</a>\u001b[0m \u001b[39mtry\u001b[39;00m:\n\u001b[0;32m     <a href='file:///c%3A/Users/frian/anaconda3/envs/bnn/lib/site-packages/tensorflow/python/eager/execute.py?line=57'>58</a>\u001b[0m   ctx\u001b[39m.\u001b[39mensure_initialized()\n\u001b[1;32m---> <a href='file:///c%3A/Users/frian/anaconda3/envs/bnn/lib/site-packages/tensorflow/python/eager/execute.py?line=58'>59</a>\u001b[0m   tensors \u001b[39m=\u001b[39m pywrap_tfe\u001b[39m.\u001b[39;49mTFE_Py_Execute(ctx\u001b[39m.\u001b[39;49m_handle, device_name, op_name,\n\u001b[0;32m     <a href='file:///c%3A/Users/frian/anaconda3/envs/bnn/lib/site-packages/tensorflow/python/eager/execute.py?line=59'>60</a>\u001b[0m                                       inputs, attrs, num_outputs)\n\u001b[0;32m     <a href='file:///c%3A/Users/frian/anaconda3/envs/bnn/lib/site-packages/tensorflow/python/eager/execute.py?line=60'>61</a>\u001b[0m \u001b[39mexcept\u001b[39;00m core\u001b[39m.\u001b[39m_NotOkStatusException \u001b[39mas\u001b[39;00m e:\n\u001b[0;32m     <a href='file:///c%3A/Users/frian/anaconda3/envs/bnn/lib/site-packages/tensorflow/python/eager/execute.py?line=61'>62</a>\u001b[0m   \u001b[39mif\u001b[39;00m name \u001b[39mis\u001b[39;00m \u001b[39mnot\u001b[39;00m \u001b[39mNone\u001b[39;00m:\n",
            "\u001b[1;31mKeyboardInterrupt\u001b[0m: "
          ]
        }
      ],
      "source": [
        "history = model.fit(X_train, Y_train,\n",
        "                    batch_size=50, epochs=1,\n",
        "                    verbose=1, validation_data=(X_test, Y_test))\n",
        "score = model.evaluate(X_test, Y_test, verbose=0)\n",
        "print('Test score:', score[0])\n",
        "print('Test accuracy:', score[1])"
      ]
    },
    {
      "cell_type": "code",
      "execution_count": 6,
      "metadata": {
        "id": "pdq6p-ss3aYr"
      },
      "outputs": [
        {
          "name": "stdout",
          "output_type": "stream",
          "text": [
            "==============================1===========================\n",
            "1\n"
          ]
        },
        {
          "ename": "NameError",
          "evalue": "name 'array' is not defined",
          "output_type": "error",
          "traceback": [
            "\u001b[1;31m---------------------------------------------------------------------------\u001b[0m",
            "\u001b[1;31mNameError\u001b[0m                                 Traceback (most recent call last)",
            "\u001b[1;32mc:\\PROJ\\PROJ_112_BNN\\python\\Golden.ipynb Cell 4'\u001b[0m in \u001b[0;36m<cell line: 4>\u001b[1;34m()\u001b[0m\n\u001b[0;32m      <a href='vscode-notebook-cell:/c%3A/PROJ/PROJ_112_BNN/python/Golden.ipynb#ch0000003?line=4'>5</a>\u001b[0m   num \u001b[39m+\u001b[39m\u001b[39m=\u001b[39m \u001b[39m1\u001b[39m\n\u001b[0;32m      <a href='vscode-notebook-cell:/c%3A/PROJ/PROJ_112_BNN/python/Golden.ipynb#ch0000003?line=5'>6</a>\u001b[0m   \u001b[39mprint\u001b[39m(num)\n\u001b[1;32m----> <a href='vscode-notebook-cell:/c%3A/PROJ/PROJ_112_BNN/python/Golden.ipynb#ch0000003?line=6'>7</a>\u001b[0m   \u001b[39mprint\u001b[39m(array[:, :, \u001b[39m0\u001b[39m, i])\n\u001b[0;32m      <a href='vscode-notebook-cell:/c%3A/PROJ/PROJ_112_BNN/python/Golden.ipynb#ch0000003?line=7'>8</a>\u001b[0m   re_ker_1 \u001b[39m=\u001b[39m np\u001b[39m.\u001b[39mappend(re_ker_1, array[:, :, \u001b[39m0\u001b[39m, i])\n\u001b[0;32m      <a href='vscode-notebook-cell:/c%3A/PROJ/PROJ_112_BNN/python/Golden.ipynb#ch0000003?line=8'>9</a>\u001b[0m \u001b[39mprint\u001b[39m(\u001b[39m'\u001b[39m\u001b[39m==============================2===========================\u001b[39m\u001b[39m'\u001b[39m)\n",
            "\u001b[1;31mNameError\u001b[0m: name 'array' is not defined"
          ]
        }
      ],
      "source": [
        "print(model.layers[0].get_weights())\n",
        "binary_kernel_0 = binarize(model.layers[0].kernel, H=model.layers[0].H) \n",
        "binary_kernel_1 = binarize(model.layers[1].kernel, H=model.layers[1].H)\n",
        "print('BINARIZE_0')\n",
        "print(binary_kernel_0)\n",
        "print('BINARIZE_1')\n",
        "print(binary_kernel_1)\n",
        "\n",
        "array_0 = binary_kernel_0.numpy()\n",
        "weight_file_0 = open('weight_0.txt', 'w')\n",
        "for i in range(len(binary_kernel_0)):\n",
        "  weight_file_0.write(str(array_0[i]) + '\\n')\n",
        "weight_file_0.close()\n",
        "\n",
        "array_1 = binary_kernel_1.numpy()\n",
        "weight_file_1 = open('weight_1.txt', 'w')\n",
        "for i in range(len(binary_kernel_1)):\n",
        "  weight_file_1.write(str(array_1[i]) + '\\n')\n",
        "weight_file_1.close()"
      ]
    },
    {
      "cell_type": "code",
      "execution_count": null,
      "metadata": {
        "colab": {
          "base_uri": "https://localhost:8080/"
        },
        "id": "3EJi-egZfUQo",
        "outputId": "200bbd81-300a-481e-ff13-9457c647ebac"
      },
      "outputs": [
        {
          "name": "stdout",
          "output_type": "stream",
          "text": [
            "Drive already mounted at /content/drive; to attempt to forcibly remount, call drive.mount(\"/content/drive\", force_remount=True).\n"
          ]
        }
      ],
      "source": [
        "num = 0\n",
        "print('==============================1===========================')\n",
        "re_ker_1 = np.array([])\n",
        "for i in range(32):\n",
        "  num += 1\n",
        "  print(num)\n",
        "  print(array_0[:, :, 0, i])\n",
        "  re_ker_1 = np.append(re_ker_1, array_0[:, :, 0, i])\n",
        "print('==============================2===========================')\n",
        "kernel_array = re_ker_1.reshape(32, 9)# 成功率若不夠拿掉"
      ]
    },
    {
      "cell_type": "code",
      "execution_count": null,
      "metadata": {
        "colab": {
          "base_uri": "https://localhost:8080/",
          "height": 281
        },
        "id": "4Vg74_NpfVHJ",
        "outputId": "97abca41-548c-4587-ffc7-196f0ba3257d"
      },
      "outputs": [
        {
          "data": {
            "image/png": "[encoded data removed]",
            "text/plain": [
              "<Figure size 432x288 with 1 Axes>"
            ]
          },
          "metadata": {
            "needs_background": "light"
          },
          "output_type": "display_data"
        }
      ],
      "source": [
        "''' 從google drive內讀檔 '''\n",
        "from google.colab import drive\n",
        "import os\n",
        "drive.mount('/content/drive') # 第一次執行時需要驗證碼，照著指示做就行了\n",
        "# os.mkdir('/content/drive/MyDrive/Mnist') # 請確認你的google drive內有 'Mnist' 資料夾，沒有就用這個創一個\n",
        "# os.mkdir('/content/drive/MyDrive/Mnist/K1') # 請確認你的google drive內有 'Mnist/K1' 資料夾，沒有就用這個創一個\n",
        "# os.mkdir('/content/drive/MyDrive/Mnist/K2') # 請確認你的google drive內有 'Mnist/K2' 資料夾，沒有就用這個創一個\n",
        "path = '/content/drive/MyDrive/Mnist/'"
      ]
    },
    {
      "cell_type": "code",
      "execution_count": null,
      "metadata": {
        "id": "tUwK4JdVfWef"
      },
      "outputs": [],
      "source": [
        "from __future__ import print_function\n",
        "import numpy as np\n",
        "import keras\n",
        "from keras.datasets import mnist\n",
        "from keras.models import Sequential\n",
        "from keras.layers import Dense, Dropout, Flatten\n",
        "from keras.layers import Conv2D, MaxPooling2D\n",
        "import matplotlib.pyplot as plt\n",
        "from keras import backend as K\n",
        "\n",
        "batch_size = 1\n",
        "num_classes = 10\n",
        "epochs = 12\n",
        "\n",
        "# input image dimensions\n",
        "img_rows, img_cols = 28, 28\n",
        "\n",
        "# the data, split between train and test sets\n",
        "(x_train, y_train), (x_test, y_test) = mnist.load_data()\n",
        "\n",
        "if K.image_data_format() == 'channels_first':\n",
        "    x_train = x_train.reshape(x_train.shape[0], 1, img_rows, img_cols)\n",
        "    x_test = x_test.reshape(x_test.shape[0], 1, img_rows, img_cols)\n",
        "    input_shape = (1, img_rows, img_cols)\n",
        "else:\n",
        "    x_train = x_train.reshape(x_train.shape[0], img_rows, img_cols, 1)\n",
        "    x_test = x_test.reshape(x_test.shape[0], img_rows, img_cols, 1)\n",
        "    input_shape = (img_rows, img_cols, 1)\n",
        "\n",
        "x_train = x_train.astype('float32')\n",
        "x_test = x_test.astype('float32')\n",
        "x_train /= 255\n",
        "x_test /= 255\n",
        "\n",
        "print_index = 0\n",
        "plt.imshow(np.reshape(x_train[print_index], (28, 28)), cmap='gray')  \n",
        "plt.title('%i' % y_train[print_index])  \n",
        "plt.show()"
      ]
    },
    {
      "cell_type": "code",
      "execution_count": null,
      "metadata": {
        "id": "e7GiXHqlfYov"
      },
      "outputs": [],
      "source": [
        "def float_to_hex(data, int_bit, point_bit, merge): # data 須為1D-array merge, 控制分組數(多少組8-bits放一起)\n",
        "  hex_map = ['0', '1', '2', '3', '4', '5', '6', '7', '8', '9', 'A', 'B', 'C', 'D', 'E', 'F']\n",
        "\n",
        "  int_part = data - data % 1 # 整數部分\n",
        "  point_part = data % 1 # 小數部分\n",
        "  bit_num = int_bit + point_bit # 總bit數\n",
        "  bit_res = bit_num % 4 # 處理到最後剩餘bit數\n",
        "  before_merge = ['' for data_num in range(len(data))] # 合併前結果\n",
        "\n",
        "  for data_index in range(len(data)): # 將signed轉換成unsigned\n",
        "    if int_part[data_index] < 0:\n",
        "      int_part[data_index] += (2 ** int_bit)\n",
        "\n",
        "  unsigned_fixed = int_part + point_part # unsigned fixed point\n",
        "  for pow in range(int_bit, -point_bit - 1, -4):\n",
        "    if pow != int_bit:\n",
        "      unsigned_fixed = unsigned_fixed * (2 ** -pow)\n",
        "      for data_index in range(len(unsigned_fixed)):\n",
        "        before_merge[data_index] = before_merge[data_index] + hex_map[int(unsigned_fixed[data_index])]\n",
        "      unsigned_fixed = (unsigned_fixed % 1) * (2 ** pow)\n",
        "  if bit_res != 0: # 剩餘bit\n",
        "    unsigned_fixed = (unsigned_fixed * (2 ** point_bit) - (unsigned_fixed * (2 ** point_bit) % 1)) * (2 ** (4 - bit_res))\n",
        "    for data_index in range(len(unsigned_fixed)):\n",
        "      before_merge[data_index] = before_merge[data_index] + hex_map[int(unsigned_fixed[data_index])]\n",
        "\n",
        "  #print(before_merge)\n",
        "\n",
        "  if len(data) % merge != 0:\n",
        "    print('無法整除')\n",
        "  else:\n",
        "    result = ['' for data_num in range(int(len(data) / merge))] # Merge後結果\n",
        "\n",
        "    head_index = 0 # 開頭位置\n",
        "    now_index = 0 # 儲存在result的位置\n",
        "\n",
        "    while now_index != len(result):\n",
        "      for i in range(head_index, head_index + merge):\n",
        "        result[now_index] += before_merge[i]\n",
        "      head_index += merge\n",
        "      now_index += 1\n",
        "\n",
        "    return result"
      ]
    },
    {
      "cell_type": "code",
      "execution_count": null,
      "metadata": {
        "id": "PGD5dRfQvQwi"
      },
      "outputs": [],
      "source": [
        "def Golden(image, kernel, num_kernel):\n",
        "\n",
        "  Conv_weight = np.array(kernel[num_kernel])\n",
        "  Conv_weight = Conv_weight - Conv_weight % (2 ** -5)\n",
        "  row_kernel = np.array([]) # temp for every row output form Conv kernel 1\n",
        "  '''To MaxPool'''\n",
        "  Imageout_kernal = np.empty((0, 26), float) # Image output form kernal 1\n",
        "  ################\n",
        "\n",
        "  for col in range(0,26):\n",
        "    for row in range(0,26):\n",
        "      filter = 0\n",
        "      for i in range(0,3,1):\n",
        "        for j in range(0,3,1):\n",
        "          tmp1 = image[col + i, row + j] * Conv_weight[3 * i + j]\n",
        "          filter += tmp1\n",
        "      if filter % (2 ** -5) >= (2 ** -6):\n",
        "        filter += (2 ** -5)\n",
        "      #filter = max(filter, 0)\n",
        "      row_kernel = np.append(row_kernel, filter)\n",
        "    Imageout_kernal = np.append(Imageout_kernal, np.expand_dims(row_kernel, axis = 0), axis = 0)\n",
        "    row_kernel = np.array([])\n",
        "\n",
        "  #print(np.reshape((Imageout_kernal_1), 676))\n",
        "  #print(np.reshape((Imageout_kernal_2), 676))\n",
        "  \n",
        "  result = float_to_hex(np.reshape((Imageout_kernal), 676), 3, 5, 26)\n",
        "  print(result)\n",
        "  print(1)\n",
        "  output_file_name = 'test_' + '0' + '_kernel_' + str(num_kernel) + '_hex.txt'\n",
        "  output_file = open(output_file_name, 'w')\n",
        "  for data in result:\n",
        "    output_file.write(data + '\\n')\n",
        "  output_file.close()\n",
        "\n",
        "  '''for index in range(len(result1)):\n",
        "      if np.reshape((Imageout_kernal_1), 676)[index] - np.reshape((Imageout_kernal_1), 676)[index] % (2 ** -5) != int(result1[index][0], 16) * (2 ** -1) + int(result1[index][1], 16) * (2 ** -5):\n",
        "        print(\"hi1 : \", index)\n",
        "        print( np.reshape((Imageout_kernal_1), 676)[index] - np.reshape((Imageout_kernal_1), 676)[index] % (2 ** -5), int(result1[index][0], 16) * (2 ** -1) + int(result1[index][1], 16) * (2 ** -5))\n",
        "  for index in range(len(result2)):\n",
        "      if np.reshape((Imageout_kernal_2), 676)[index] - np.reshape((Imageout_kernal_2), 676)[index] % (2 ** -5) != int(result2[index][0], 16) * (2 ** -1) + int(result2[index][1], 16) * (2 ** -5):\n",
        "        print(\"hi2\", index)\n",
        "           print( np.reshape((Imageout_kernal_2), 676)[index] - np.reshape((Imageout_kernal_2), 676)[index] % (2 ** -5), int(result2[index][0], 16) * (2 ** -1) + int(result2[index][1], 16) * (2 ** -5))'''"
      ]
    },
    {
      "cell_type": "code",
      "execution_count": 7,
      "metadata": {},
      "outputs": [
        {
          "ename": "NameError",
          "evalue": "name 'kernel_array' is not defined",
          "output_type": "error",
          "traceback": [
            "\u001b[1;31m---------------------------------------------------------------------------\u001b[0m",
            "\u001b[1;31mNameError\u001b[0m                                 Traceback (most recent call last)",
            "\u001b[1;32mc:\\PROJ\\PROJ_112_BNN\\python\\Golden.ipynb Cell 10'\u001b[0m in \u001b[0;36m<cell line: 1>\u001b[1;34m()\u001b[0m\n\u001b[1;32m----> <a href='vscode-notebook-cell:/c%3A/PROJ/PROJ_112_BNN/python/Golden.ipynb#ch0000013?line=0'>1</a>\u001b[0m kernel_1D \u001b[39m=\u001b[39m kernel_array\u001b[39m.\u001b[39mreshape(\u001b[39m32\u001b[39m, \u001b[39m1\u001b[39m, \u001b[39m9\u001b[39m)\n\u001b[0;32m      <a href='vscode-notebook-cell:/c%3A/PROJ/PROJ_112_BNN/python/Golden.ipynb#ch0000013?line=1'>2</a>\u001b[0m \u001b[39m# print(kernel_1D)\u001b[39;00m\n\u001b[0;32m      <a href='vscode-notebook-cell:/c%3A/PROJ/PROJ_112_BNN/python/Golden.ipynb#ch0000013?line=2'>3</a>\u001b[0m \u001b[39mfor\u001b[39;00m num_array \u001b[39min\u001b[39;00m \u001b[39mrange\u001b[39m(\u001b[39m0\u001b[39m, \u001b[39m32\u001b[39m):\n",
            "\u001b[1;31mNameError\u001b[0m: name 'kernel_array' is not defined"
          ]
        }
      ],
      "source": [
        "#print(x_train[print_index] - x_train[print_index] % (2 ** -5))\n",
        "plt.imshow(np.reshape(x_train[print_index], (28, 28)), cmap='gray')\n",
        "plt.title('%i' % y_train[print_index])  \n",
        "plt.show()\n",
        "print('layer_0')\n",
        "for num_kernel in range(0, 32):\n",
        "  Golden(np.reshape(x_train[0] - x_train[0] % (2 ** -5), (28, 28)), kernel_array, num_kernel)"
      ]
    },
    {
      "cell_type": "code",
      "execution_count": null,
      "metadata": {},
      "outputs": [],
      "source": [
        "#print(x_train[print_index] - x_train[print_index] % (2 ** -5))\n",
        "from decimal import Decimal\n",
        "plt.imshow(np.reshape(x_train[print_index], (28, 28)), cmap='gray')\n",
        "plt.title('%i' % y_train[print_index])  \n",
        "plt.show()\n",
        "print('layer_0')\n",
        "image = np.reshape(x_train[0] - x_train[0] % (2 ** -5), (28, 28))\n",
        "for num_kernel in range(0, 32):\n",
        "  Golden(image, kernel_array, num_kernel)"
      ]
    },
    {
      "cell_type": "code",
      "execution_count": null,
      "metadata": {},
      "outputs": [],
      "source": [
        "kernel_1D = kernel_array.reshape(32, 1, 9)\n",
        "# print(kernel_1D)\n",
        "for num_array in range(0, 32):\n",
        "  print(kernel_1D[num_array][0])\n",
        "  hex_kernel = float_to_hex(kernel_1D[num_array][0], 3, 5, 1)\n",
        "  print(hex_kernel)"
      ]
    },
    {
      "cell_type": "code",
      "execution_count": null,
      "metadata": {},
      "outputs": [],
      "source": [
        "# print(x_train[0] - x_train[0] % (2 ** -5))\n",
        "image = np.reshape(x_train[0] - x_train[0] % (2 ** -5), (28, 28))\n",
        "print(image)\n",
        "image_1D = np.reshape(image, (28*28, 1))\n",
        "print(\"===============================\")\n",
        "hex_image = float_to_hex(image_1D, 3, 5, 1)\n",
        "print(hex_image)\n",
        "print(\"===============================\")\n"
      ]
    }
  ],
  "metadata": {
    "colab": {
      "collapsed_sections": [],
      "name": "BNN_0308.ipynb",
      "provenance": []
    },
    "kernelspec": {
      "display_name": "Python 3",
      "name": "python3"
    },
    "language_info": {
      "codemirror_mode": {
        "name": "ipython",
        "version": 3
      },
      "file_extension": ".py",
      "mimetype": "text/x-python",
      "name": "python",
      "nbconvert_exporter": "python",
      "pygments_lexer": "ipython3",
      "version": "3.9.7"
    }
  },
  "nbformat": 4,
  "nbformat_minor": 0
}
